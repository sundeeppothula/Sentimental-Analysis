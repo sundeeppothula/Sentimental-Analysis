{
 "cells": [
  {
   "cell_type": "code",
   "execution_count": 1,
   "metadata": {},
   "outputs": [
    {
     "name": "stdout",
     "output_type": "stream",
     "text": [
      "[nltk_data] Downloading package punkt to\n",
      "[nltk_data]     C:\\Users\\pothulas\\AppData\\Roaming\\nltk_data...\n",
      "[nltk_data]   Package punkt is already up-to-date!\n",
      "[nltk_data] Downloading package perluniprops to\n",
      "[nltk_data]     C:\\Users\\pothulas\\AppData\\Roaming\\nltk_data...\n",
      "[nltk_data]   Package perluniprops is already up-to-date!\n"
     ]
    }
   ],
   "source": [
    "import pandas as pd\n",
    "import numpy as np\n",
    "import matplotlib.pyplot as plt\n",
    "import time\n",
    "import os\n",
    "try:\n",
    "    import nltk\n",
    "except:\n",
    "    !pip install nltk\n",
    "from nltk import word_tokenize,sent_tokenize"
   ]
  },
  {
   "cell_type": "code",
   "execution_count": 2,
   "metadata": {
    "collapsed": true
   },
   "outputs": [],
   "source": [
    "os.chdir(r'\\\\SRVA\\Homes$\\pothulas\\Desktop\\DataMining\\Project')\n",
    "df =pd.read_csv('Tweets.csv')"
   ]
  },
  {
   "cell_type": "code",
   "execution_count": 3,
   "metadata": {},
   "outputs": [
    {
     "data": {
      "text/html": [
       "<div>\n",
       "<style>\n",
       "    .dataframe thead tr:only-child th {\n",
       "        text-align: right;\n",
       "    }\n",
       "\n",
       "    .dataframe thead th {\n",
       "        text-align: left;\n",
       "    }\n",
       "\n",
       "    .dataframe tbody tr th {\n",
       "        vertical-align: top;\n",
       "    }\n",
       "</style>\n",
       "<table border=\"1\" class=\"dataframe\">\n",
       "  <thead>\n",
       "    <tr style=\"text-align: right;\">\n",
       "      <th></th>\n",
       "      <th>tweet_id</th>\n",
       "      <th>airline_sentiment</th>\n",
       "      <th>airline_sentiment_confidence</th>\n",
       "      <th>negativereason</th>\n",
       "      <th>negativereason_confidence</th>\n",
       "      <th>airline</th>\n",
       "      <th>airline_sentiment_gold</th>\n",
       "      <th>name</th>\n",
       "      <th>negativereason_gold</th>\n",
       "      <th>retweet_count</th>\n",
       "      <th>text</th>\n",
       "      <th>tweet_coord</th>\n",
       "      <th>tweet_created</th>\n",
       "      <th>tweet_location</th>\n",
       "      <th>user_timezone</th>\n",
       "    </tr>\n",
       "  </thead>\n",
       "  <tbody>\n",
       "    <tr>\n",
       "      <th>0</th>\n",
       "      <td>570306133677760513</td>\n",
       "      <td>neutral</td>\n",
       "      <td>1.0000</td>\n",
       "      <td>NaN</td>\n",
       "      <td>NaN</td>\n",
       "      <td>Virgin America</td>\n",
       "      <td>NaN</td>\n",
       "      <td>cairdin</td>\n",
       "      <td>NaN</td>\n",
       "      <td>0</td>\n",
       "      <td>@VirginAmerica What @dhepburn said.</td>\n",
       "      <td>NaN</td>\n",
       "      <td>2015-02-24 11:35:52 -0800</td>\n",
       "      <td>NaN</td>\n",
       "      <td>Eastern Time (US &amp; Canada)</td>\n",
       "    </tr>\n",
       "    <tr>\n",
       "      <th>1</th>\n",
       "      <td>570301130888122368</td>\n",
       "      <td>positive</td>\n",
       "      <td>0.3486</td>\n",
       "      <td>NaN</td>\n",
       "      <td>0.0000</td>\n",
       "      <td>Virgin America</td>\n",
       "      <td>NaN</td>\n",
       "      <td>jnardino</td>\n",
       "      <td>NaN</td>\n",
       "      <td>0</td>\n",
       "      <td>@VirginAmerica plus you've added commercials t...</td>\n",
       "      <td>NaN</td>\n",
       "      <td>2015-02-24 11:15:59 -0800</td>\n",
       "      <td>NaN</td>\n",
       "      <td>Pacific Time (US &amp; Canada)</td>\n",
       "    </tr>\n",
       "    <tr>\n",
       "      <th>2</th>\n",
       "      <td>570301083672813571</td>\n",
       "      <td>neutral</td>\n",
       "      <td>0.6837</td>\n",
       "      <td>NaN</td>\n",
       "      <td>NaN</td>\n",
       "      <td>Virgin America</td>\n",
       "      <td>NaN</td>\n",
       "      <td>yvonnalynn</td>\n",
       "      <td>NaN</td>\n",
       "      <td>0</td>\n",
       "      <td>@VirginAmerica I didn't today... Must mean I n...</td>\n",
       "      <td>NaN</td>\n",
       "      <td>2015-02-24 11:15:48 -0800</td>\n",
       "      <td>Lets Play</td>\n",
       "      <td>Central Time (US &amp; Canada)</td>\n",
       "    </tr>\n",
       "    <tr>\n",
       "      <th>3</th>\n",
       "      <td>570301031407624196</td>\n",
       "      <td>negative</td>\n",
       "      <td>1.0000</td>\n",
       "      <td>Bad Flight</td>\n",
       "      <td>0.7033</td>\n",
       "      <td>Virgin America</td>\n",
       "      <td>NaN</td>\n",
       "      <td>jnardino</td>\n",
       "      <td>NaN</td>\n",
       "      <td>0</td>\n",
       "      <td>@VirginAmerica it's really aggressive to blast...</td>\n",
       "      <td>NaN</td>\n",
       "      <td>2015-02-24 11:15:36 -0800</td>\n",
       "      <td>NaN</td>\n",
       "      <td>Pacific Time (US &amp; Canada)</td>\n",
       "    </tr>\n",
       "    <tr>\n",
       "      <th>4</th>\n",
       "      <td>570300817074462722</td>\n",
       "      <td>negative</td>\n",
       "      <td>1.0000</td>\n",
       "      <td>Can't Tell</td>\n",
       "      <td>1.0000</td>\n",
       "      <td>Virgin America</td>\n",
       "      <td>NaN</td>\n",
       "      <td>jnardino</td>\n",
       "      <td>NaN</td>\n",
       "      <td>0</td>\n",
       "      <td>@VirginAmerica and it's a really big bad thing...</td>\n",
       "      <td>NaN</td>\n",
       "      <td>2015-02-24 11:14:45 -0800</td>\n",
       "      <td>NaN</td>\n",
       "      <td>Pacific Time (US &amp; Canada)</td>\n",
       "    </tr>\n",
       "  </tbody>\n",
       "</table>\n",
       "</div>"
      ],
      "text/plain": [
       "             tweet_id airline_sentiment  airline_sentiment_confidence  \\\n",
       "0  570306133677760513           neutral                        1.0000   \n",
       "1  570301130888122368          positive                        0.3486   \n",
       "2  570301083672813571           neutral                        0.6837   \n",
       "3  570301031407624196          negative                        1.0000   \n",
       "4  570300817074462722          negative                        1.0000   \n",
       "\n",
       "  negativereason  negativereason_confidence         airline  \\\n",
       "0            NaN                        NaN  Virgin America   \n",
       "1            NaN                     0.0000  Virgin America   \n",
       "2            NaN                        NaN  Virgin America   \n",
       "3     Bad Flight                     0.7033  Virgin America   \n",
       "4     Can't Tell                     1.0000  Virgin America   \n",
       "\n",
       "  airline_sentiment_gold        name negativereason_gold  retweet_count  \\\n",
       "0                    NaN     cairdin                 NaN              0   \n",
       "1                    NaN    jnardino                 NaN              0   \n",
       "2                    NaN  yvonnalynn                 NaN              0   \n",
       "3                    NaN    jnardino                 NaN              0   \n",
       "4                    NaN    jnardino                 NaN              0   \n",
       "\n",
       "                                                text tweet_coord  \\\n",
       "0                @VirginAmerica What @dhepburn said.         NaN   \n",
       "1  @VirginAmerica plus you've added commercials t...         NaN   \n",
       "2  @VirginAmerica I didn't today... Must mean I n...         NaN   \n",
       "3  @VirginAmerica it's really aggressive to blast...         NaN   \n",
       "4  @VirginAmerica and it's a really big bad thing...         NaN   \n",
       "\n",
       "               tweet_created tweet_location               user_timezone  \n",
       "0  2015-02-24 11:35:52 -0800            NaN  Eastern Time (US & Canada)  \n",
       "1  2015-02-24 11:15:59 -0800            NaN  Pacific Time (US & Canada)  \n",
       "2  2015-02-24 11:15:48 -0800      Lets Play  Central Time (US & Canada)  \n",
       "3  2015-02-24 11:15:36 -0800            NaN  Pacific Time (US & Canada)  \n",
       "4  2015-02-24 11:14:45 -0800            NaN  Pacific Time (US & Canada)  "
      ]
     },
     "execution_count": 3,
     "metadata": {},
     "output_type": "execute_result"
    }
   ],
   "source": [
    "df.head()"
   ]
  },
  {
   "cell_type": "code",
   "execution_count": 4,
   "metadata": {},
   "outputs": [
    {
     "name": "stdout",
     "output_type": "stream",
     "text": [
      "<class 'pandas.core.frame.DataFrame'>\n",
      "RangeIndex: 14640 entries, 0 to 14639\n",
      "Data columns (total 15 columns):\n",
      "tweet_id                        14640 non-null int64\n",
      "airline_sentiment               14640 non-null object\n",
      "airline_sentiment_confidence    14640 non-null float64\n",
      "negativereason                  9178 non-null object\n",
      "negativereason_confidence       10522 non-null float64\n",
      "airline                         14640 non-null object\n",
      "airline_sentiment_gold          40 non-null object\n",
      "name                            14640 non-null object\n",
      "negativereason_gold             32 non-null object\n",
      "retweet_count                   14640 non-null int64\n",
      "text                            14640 non-null object\n",
      "tweet_coord                     1019 non-null object\n",
      "tweet_created                   14640 non-null object\n",
      "tweet_location                  9907 non-null object\n",
      "user_timezone                   9820 non-null object\n",
      "dtypes: float64(2), int64(2), object(11)\n",
      "memory usage: 1.7+ MB\n"
     ]
    }
   ],
   "source": [
    "df.info()"
   ]
  },
  {
   "cell_type": "code",
   "execution_count": 5,
   "metadata": {},
   "outputs": [
    {
     "data": {
      "text/plain": [
       "(14640, 15)"
      ]
     },
     "execution_count": 5,
     "metadata": {},
     "output_type": "execute_result"
    }
   ],
   "source": [
    "df.shape"
   ]
  },
  {
   "cell_type": "code",
   "execution_count": 6,
   "metadata": {
    "collapsed": true
   },
   "outputs": [],
   "source": [
    "cols = ['tweet_id','negativereason_confidence','tweet_created','airline_sentiment_confidence','negativereason','airline_sentiment_gold','name','negativereason_gold','retweet_count','tweet_coord']\n",
    "df1 = df.drop(cols, axis=1)"
   ]
  },
  {
   "cell_type": "code",
   "execution_count": 7,
   "metadata": {},
   "outputs": [
    {
     "data": {
      "text/html": [
       "<div>\n",
       "<style>\n",
       "    .dataframe thead tr:only-child th {\n",
       "        text-align: right;\n",
       "    }\n",
       "\n",
       "    .dataframe thead th {\n",
       "        text-align: left;\n",
       "    }\n",
       "\n",
       "    .dataframe tbody tr th {\n",
       "        vertical-align: top;\n",
       "    }\n",
       "</style>\n",
       "<table border=\"1\" class=\"dataframe\">\n",
       "  <thead>\n",
       "    <tr style=\"text-align: right;\">\n",
       "      <th></th>\n",
       "      <th>airline_sentiment</th>\n",
       "      <th>airline</th>\n",
       "      <th>text</th>\n",
       "      <th>tweet_location</th>\n",
       "      <th>user_timezone</th>\n",
       "    </tr>\n",
       "  </thead>\n",
       "  <tbody>\n",
       "    <tr>\n",
       "      <th>13336</th>\n",
       "      <td>negative</td>\n",
       "      <td>American</td>\n",
       "      <td>@AmericanAir flight US1562 from RIC2DFW was Ca...</td>\n",
       "      <td>Richmond, VA</td>\n",
       "      <td>Central Time (US &amp; Canada)</td>\n",
       "    </tr>\n",
       "    <tr>\n",
       "      <th>8229</th>\n",
       "      <td>negative</td>\n",
       "      <td>Delta</td>\n",
       "      <td>@JetBlue it is absurd that I have waited more ...</td>\n",
       "      <td>Miami | Puerto Rico</td>\n",
       "      <td>NaN</td>\n",
       "    </tr>\n",
       "    <tr>\n",
       "      <th>8459</th>\n",
       "      <td>positive</td>\n",
       "      <td>Delta</td>\n",
       "      <td>@JetBlue btw, her name was Samantha and she wo...</td>\n",
       "      <td>NaN</td>\n",
       "      <td>Eastern Time (US &amp; Canada)</td>\n",
       "    </tr>\n",
       "    <tr>\n",
       "      <th>3944</th>\n",
       "      <td>negative</td>\n",
       "      <td>United</td>\n",
       "      <td>@united are my bags here yet?  They were at Pa...</td>\n",
       "      <td>All Over The World</td>\n",
       "      <td>NaN</td>\n",
       "    </tr>\n",
       "    <tr>\n",
       "      <th>7359</th>\n",
       "      <td>negative</td>\n",
       "      <td>Delta</td>\n",
       "      <td>@JetBlue how about free wifi on flt 1254 out o...</td>\n",
       "      <td>NaN</td>\n",
       "      <td>Atlantic Time (Canada)</td>\n",
       "    </tr>\n",
       "  </tbody>\n",
       "</table>\n",
       "</div>"
      ],
      "text/plain": [
       "      airline_sentiment   airline  \\\n",
       "13336          negative  American   \n",
       "8229           negative     Delta   \n",
       "8459           positive     Delta   \n",
       "3944           negative    United   \n",
       "7359           negative     Delta   \n",
       "\n",
       "                                                    text  \\\n",
       "13336  @AmericanAir flight US1562 from RIC2DFW was Ca...   \n",
       "8229   @JetBlue it is absurd that I have waited more ...   \n",
       "8459   @JetBlue btw, her name was Samantha and she wo...   \n",
       "3944   @united are my bags here yet?  They were at Pa...   \n",
       "7359   @JetBlue how about free wifi on flt 1254 out o...   \n",
       "\n",
       "             tweet_location               user_timezone  \n",
       "13336          Richmond, VA  Central Time (US & Canada)  \n",
       "8229   Miami | Puerto Rico                          NaN  \n",
       "8459                    NaN  Eastern Time (US & Canada)  \n",
       "3944     All Over The World                         NaN  \n",
       "7359                    NaN      Atlantic Time (Canada)  "
      ]
     },
     "execution_count": 7,
     "metadata": {},
     "output_type": "execute_result"
    }
   ],
   "source": [
    "df1.sample(5)"
   ]
  },
  {
   "cell_type": "code",
   "execution_count": 8,
   "metadata": {},
   "outputs": [
    {
     "data": {
      "text/plain": [
       "United            3822\n",
       "US Airways        2913\n",
       "American          2759\n",
       "Southwest         2420\n",
       "Delta             2222\n",
       "Virgin America     504\n",
       "Name: airline, dtype: int64"
      ]
     },
     "execution_count": 8,
     "metadata": {},
     "output_type": "execute_result"
    }
   ],
   "source": [
    "df1['airline'].value_counts()"
   ]
  },
  {
   "cell_type": "code",
   "execution_count": 9,
   "metadata": {},
   "outputs": [
    {
     "data": {
      "text/plain": [
       "negative    9178\n",
       "neutral     3099\n",
       "positive    2363\n",
       "Name: airline_sentiment, dtype: int64"
      ]
     },
     "execution_count": 9,
     "metadata": {},
     "output_type": "execute_result"
    }
   ],
   "source": [
    "df1['airline_sentiment'].value_counts()"
   ]
  },
  {
   "cell_type": "code",
   "execution_count": 10,
   "metadata": {},
   "outputs": [
    {
     "data": {
      "text/plain": [
       "\"@VirginAmerica it was amazing, and arrived an hour early. You're too good to me.\""
      ]
     },
     "execution_count": 10,
     "metadata": {},
     "output_type": "execute_result"
    }
   ],
   "source": [
    "df['text'][9]"
   ]
  },
  {
   "cell_type": "code",
   "execution_count": 11,
   "metadata": {
    "collapsed": true
   },
   "outputs": [],
   "source": [
    "import re\n",
    "import string\n",
    "def cleaning(tweet):\n",
    "  cleanr = re.compile('<.*?>')      # logic: Removing HTML tags by using regular expressions\n",
    "  clean1 = re.sub(cleanr, '', tweet)\n",
    "  clean2 = re.sub(r'(@[A-Za-z0-9]+)|([^0-9A-Za-z \\t])|(\\w+:\\/\\/\\S+)', \"\", clean1)  #Removing Url('.' with continous string on eitherside if present is removed )\n",
    "  clean3 = str(clean2).replace('\\xa0',' ')\n",
    "  clean4 = str(clean3).lower()              # converting all tweets to lower case to create uniformity for model fitting of words\n",
    "  translation = str.maketrans('', '', string.punctuation)\n",
    "  clean5 = clean4.translate(translation)        # Removing all special characters\n",
    "  clean6 = clean5.replace('…', ' ')\n",
    "  return clean6"
   ]
  },
  {
   "cell_type": "code",
   "execution_count": 12,
   "metadata": {
    "collapsed": true
   },
   "outputs": [],
   "source": [
    "stop=pd.read_csv(\"stop_words.txt\", header=None)\n",
    "stop = set(stop[0])"
   ]
  },
  {
   "cell_type": "code",
   "execution_count": 13,
   "metadata": {
    "collapsed": true
   },
   "outputs": [],
   "source": [
    "df1['text'] = df1.text.apply(lambda x: cleaning(x))"
   ]
  },
  {
   "cell_type": "code",
   "execution_count": 14,
   "metadata": {
    "collapsed": true
   },
   "outputs": [],
   "source": [
    "from nltk.tokenize import word_tokenize\n",
    "df1['text'] = df1.text.apply(lambda x: word_tokenize(x))"
   ]
  },
  {
   "cell_type": "code",
   "execution_count": 15,
   "metadata": {
    "collapsed": true
   },
   "outputs": [],
   "source": [
    "df1.text = df1['text'].apply(lambda x: [word for word in x if word not in stop])"
   ]
  },
  {
   "cell_type": "code",
   "execution_count": 16,
   "metadata": {},
   "outputs": [
    {
     "data": {
      "text/plain": [
       "'@SouthwestAir #DestinationDragons @Imaginedragons Scavenger Hunt Vegas, BE READY!!! http://t.co/vHgkiTzSaw'"
      ]
     },
     "execution_count": 16,
     "metadata": {},
     "output_type": "execute_result"
    }
   ],
   "source": [
    "df['text'][4785]"
   ]
  },
  {
   "cell_type": "code",
   "execution_count": 17,
   "metadata": {},
   "outputs": [
    {
     "data": {
      "text/plain": [
       "'@united Is there a direct number to call to request a refund?  Its telling me its not valid as I changed the ticket.  No number on site'"
      ]
     },
     "execution_count": 17,
     "metadata": {},
     "output_type": "execute_result"
    }
   ],
   "source": [
    "df['text'][4255]"
   ]
  },
  {
   "cell_type": "code",
   "execution_count": 18,
   "metadata": {},
   "outputs": [
    {
     "data": {
      "text/plain": [
       "['direct',\n",
       " 'number',\n",
       " 'call',\n",
       " 'request',\n",
       " 'refund',\n",
       " 'telling',\n",
       " 'valid',\n",
       " 'changed',\n",
       " 'ticket',\n",
       " 'number',\n",
       " 'site']"
      ]
     },
     "execution_count": 18,
     "metadata": {},
     "output_type": "execute_result"
    }
   ],
   "source": [
    "df1['text'][4255]"
   ]
  },
  {
   "cell_type": "code",
   "execution_count": 19,
   "metadata": {
    "collapsed": true
   },
   "outputs": [],
   "source": [
    "import seaborn as sns"
   ]
  },
  {
   "cell_type": "code",
   "execution_count": 20,
   "metadata": {},
   "outputs": [
    {
     "data": {
      "image/png": "[encoded data removed]",
      "text/plain": [
       "<matplotlib.figure.Figure at 0x28a96e0ceb8>"
      ]
     },
     "metadata": {},
     "output_type": "display_data"
    }
   ],
   "source": [
    "sns.countplot(x ='airline', data = df1)\n",
    "plt.show()"
   ]
  },
  {
   "cell_type": "code",
   "execution_count": 21,
   "metadata": {},
   "outputs": [
    {
     "data": {
      "image/png": "[encoded data removed]",
      "text/plain": [
       "<matplotlib.figure.Figure at 0x28a91966c50>"
      ]
     },
     "metadata": {},
     "output_type": "display_data"
    }
   ],
   "source": [
    "sns.countplot(x ='airline_sentiment', data = df1)\n",
    "plt.show()"
   ]
  },
  {
   "cell_type": "code",
   "execution_count": 75,
   "metadata": {},
   "outputs": [
    {
     "data": {
      "text/plain": [
       "negative    9178\n",
       "neutral     3099\n",
       "positive    2363\n",
       "Name: airline_sentiment, dtype: int64"
      ]
     },
     "execution_count": 75,
     "metadata": {},
     "output_type": "execute_result"
    }
   ],
   "source": [
    "df['airline_sentiment'].value_counts()"
   ]
  },
  {
   "cell_type": "code",
   "execution_count": 76,
   "metadata": {},
   "outputs": [
    {
     "data": {
      "image/png": "[encoded data removed]",
      "text/plain": [
       "<matplotlib.figure.Figure at 0x28a96dbe748>"
      ]
     },
     "metadata": {},
     "output_type": "display_data"
    }
   ],
   "source": [
    "x = df['airline_sentiment'].value_counts()\n",
    "x.tolist()\n",
    "Tweet_Sentiment = ['Negative', 'Neutral','Positive']\n",
    "piechart = plt.pie(x,  labels = Tweet_Sentiment, autopct = '%1.1f%%')\n",
    "plt.title('Tweets Sentiment Percentage', fontsize = 15, fontweight = 'bold')\n",
    "plt.axis('equal')\n",
    "plt.show()"
   ]
  },
  {
   "cell_type": "code",
   "execution_count": 24,
   "metadata": {},
   "outputs": [
    {
     "data": {
      "image/png": "[encoded data removed]",
      "text/plain": [
       "<matplotlib.figure.Figure at 0x28a96dba8d0>"
      ]
     },
     "metadata": {},
     "output_type": "display_data"
    }
   ],
   "source": [
    "a4_dims = (11.7, 6.27)\n",
    "fig, ax = plt.subplots(figsize=a4_dims)\n",
    "sns.countplot(x='airline', hue=\"airline_sentiment\", data=df1)\n",
    "plt.show()"
   ]
  },
  {
   "cell_type": "code",
   "execution_count": 25,
   "metadata": {
    "collapsed": true
   },
   "outputs": [],
   "source": [
    "from nltk.tokenize.moses import MosesDetokenizer          # Detokenizing the tweets back to string using Mosesdetokenizer\n",
    "detokenizer = MosesDetokenizer()\n",
    "df1.text = df1.text.apply(lambda x: detokenizer.detokenize(x, return_str=True))"
   ]
  },
  {
   "cell_type": "code",
   "execution_count": 26,
   "metadata": {},
   "outputs": [
    {
     "data": {
      "text/html": [
       "<div>\n",
       "<style>\n",
       "    .dataframe thead tr:only-child th {\n",
       "        text-align: right;\n",
       "    }\n",
       "\n",
       "    .dataframe thead th {\n",
       "        text-align: left;\n",
       "    }\n",
       "\n",
       "    .dataframe tbody tr th {\n",
       "        vertical-align: top;\n",
       "    }\n",
       "</style>\n",
       "<table border=\"1\" class=\"dataframe\">\n",
       "  <thead>\n",
       "    <tr style=\"text-align: right;\">\n",
       "      <th></th>\n",
       "      <th>airline_sentiment</th>\n",
       "      <th>airline</th>\n",
       "      <th>text</th>\n",
       "      <th>tweet_location</th>\n",
       "      <th>user_timezone</th>\n",
       "    </tr>\n",
       "  </thead>\n",
       "  <tbody>\n",
       "    <tr>\n",
       "      <th>0</th>\n",
       "      <td>neutral</td>\n",
       "      <td>Virgin America</td>\n",
       "      <td></td>\n",
       "      <td>NaN</td>\n",
       "      <td>Eastern Time (US &amp; Canada)</td>\n",
       "    </tr>\n",
       "    <tr>\n",
       "      <th>1</th>\n",
       "      <td>positive</td>\n",
       "      <td>Virgin America</td>\n",
       "      <td>youve commercials experience tacky</td>\n",
       "      <td>NaN</td>\n",
       "      <td>Pacific Time (US &amp; Canada)</td>\n",
       "    </tr>\n",
       "    <tr>\n",
       "      <th>2</th>\n",
       "      <td>neutral</td>\n",
       "      <td>Virgin America</td>\n",
       "      <td>didnt today trip</td>\n",
       "      <td>Lets Play</td>\n",
       "      <td>Central Time (US &amp; Canada)</td>\n",
       "    </tr>\n",
       "    <tr>\n",
       "      <th>3</th>\n",
       "      <td>negative</td>\n",
       "      <td>Virgin America</td>\n",
       "      <td>aggressive blast obnoxious entertainment guest...</td>\n",
       "      <td>NaN</td>\n",
       "      <td>Pacific Time (US &amp; Canada)</td>\n",
       "    </tr>\n",
       "    <tr>\n",
       "      <th>4</th>\n",
       "      <td>negative</td>\n",
       "      <td>Virgin America</td>\n",
       "      <td>big bad thing</td>\n",
       "      <td>NaN</td>\n",
       "      <td>Pacific Time (US &amp; Canada)</td>\n",
       "    </tr>\n",
       "  </tbody>\n",
       "</table>\n",
       "</div>"
      ],
      "text/plain": [
       "  airline_sentiment         airline  \\\n",
       "0           neutral  Virgin America   \n",
       "1          positive  Virgin America   \n",
       "2           neutral  Virgin America   \n",
       "3          negative  Virgin America   \n",
       "4          negative  Virgin America   \n",
       "\n",
       "                                                text tweet_location  \\\n",
       "0                                                               NaN   \n",
       "1                 youve commercials experience tacky            NaN   \n",
       "2                                   didnt today trip      Lets Play   \n",
       "3  aggressive blast obnoxious entertainment guest...            NaN   \n",
       "4                                      big bad thing            NaN   \n",
       "\n",
       "                user_timezone  \n",
       "0  Eastern Time (US & Canada)  \n",
       "1  Pacific Time (US & Canada)  \n",
       "2  Central Time (US & Canada)  \n",
       "3  Pacific Time (US & Canada)  \n",
       "4  Pacific Time (US & Canada)  "
      ]
     },
     "execution_count": 26,
     "metadata": {},
     "output_type": "execute_result"
    }
   ],
   "source": [
    "df1.head()"
   ]
  },
  {
   "cell_type": "code",
   "execution_count": 27,
   "metadata": {
    "collapsed": true
   },
   "outputs": [],
   "source": [
    "string = []\n",
    "l = df1.text.apply(lambda x: string.extend([x]))"
   ]
  },
  {
   "cell_type": "code",
   "execution_count": 28,
   "metadata": {
    "collapsed": true
   },
   "outputs": [],
   "source": [
    "all_tweets_string = ' '.join(str(e) for e in string)"
   ]
  },
  {
   "cell_type": "code",
   "execution_count": 29,
   "metadata": {
    "collapsed": true
   },
   "outputs": [],
   "source": [
    "f = open('all_tweets_string.txt','w')\n",
    "f.write(all_tweets_string)\n",
    "f.close()"
   ]
  },
  {
   "cell_type": "code",
   "execution_count": 30,
   "metadata": {},
   "outputs": [
    {
     "data": {
      "text/plain": [
       "United            3822\n",
       "US Airways        2913\n",
       "American          2759\n",
       "Southwest         2420\n",
       "Delta             2222\n",
       "Virgin America     504\n",
       "Name: airline, dtype: int64"
      ]
     },
     "execution_count": 30,
     "metadata": {},
     "output_type": "execute_result"
    }
   ],
   "source": [
    "df['airline'].value_counts()"
   ]
  },
  {
   "cell_type": "markdown",
   "metadata": {},
   "source": [
    "#### For Plotting Word clouds - Data of different Airlines seperated"
   ]
  },
  {
   "cell_type": "code",
   "execution_count": 32,
   "metadata": {
    "collapsed": true
   },
   "outputs": [],
   "source": [
    "string = []\n",
    "l = df_United.text.apply(lambda x: string.extend([x]))\n",
    "United_tweets_string = ' '.join(str(e) for e in string)\n",
    "f = open('United_tweets_string.txt','w')\n",
    "f.write(United_tweets_string)\n",
    "f.close()"
   ]
  },
  {
   "cell_type": "code",
   "execution_count": 33,
   "metadata": {
    "collapsed": true
   },
   "outputs": [],
   "source": [
    "string = []\n",
    "l = df_US_Airways.text.apply(lambda x: string.extend([x]))\n",
    "USairways_tweets_string = ' '.join(str(e) for e in string)\n",
    "f = open('USairways_tweets_string.txt','w')\n",
    "f.write(USairways_tweets_string)\n",
    "f.close()"
   ]
  },
  {
   "cell_type": "markdown",
   "metadata": {
    "collapsed": true
   },
   "source": [
    "#### Dividing into Testing & Training sets:"
   ]
  },
  {
   "cell_type": "code",
   "execution_count": 174,
   "metadata": {
    "collapsed": true
   },
   "outputs": [],
   "source": [
    "from sklearn.model_selection import train_test_split\n",
    "X_train, X_test, y_train, y_test = train_test_split(df1['text'], df1['airline_sentiment'], test_size =0.3)"
   ]
  },
  {
   "cell_type": "code",
   "execution_count": 175,
   "metadata": {
    "collapsed": true
   },
   "outputs": [],
   "source": [
    "X_train = pd.DataFrame(X_train)\n",
    "X_test = pd.DataFrame(X_test)"
   ]
  },
  {
   "cell_type": "code",
   "execution_count": 204,
   "metadata": {},
   "outputs": [
    {
     "data": {
      "text/plain": [
       "negative    2823\n",
       "neutral      875\n",
       "positive     694\n",
       "Name: airline_sentiment, dtype: int64"
      ]
     },
     "execution_count": 204,
     "metadata": {},
     "output_type": "execute_result"
    }
   ],
   "source": [
    "y_test.value_counts()"
   ]
  },
  {
   "cell_type": "markdown",
   "metadata": {},
   "source": [
    "#### Model Implementation:"
   ]
  },
  {
   "cell_type": "code",
   "execution_count": 176,
   "metadata": {
    "collapsed": true
   },
   "outputs": [],
   "source": [
    "from sklearn.feature_extraction.text import CountVectorizer\n",
    "from sklearn.cross_validation import cross_val_score      # Importing Cross Validation from sklearn\n",
    "count_vect = CountVectorizer()"
   ]
  },
  {
   "cell_type": "code",
   "execution_count": 177,
   "metadata": {
    "collapsed": true
   },
   "outputs": [],
   "source": [
    "X_train = X_train['text'].astype(str).values.tolist()\n",
    "X_test = X_test['text'].astype(str).values.tolist()"
   ]
  },
  {
   "cell_type": "code",
   "execution_count": null,
   "metadata": {
    "collapsed": true
   },
   "outputs": [],
   "source": []
  },
  {
   "cell_type": "code",
   "execution_count": 178,
   "metadata": {
    "collapsed": true
   },
   "outputs": [],
   "source": [
    "z = count_vect.fit_transform(X_train)"
   ]
  },
  {
   "cell_type": "code",
   "execution_count": 179,
   "metadata": {
    "collapsed": true
   },
   "outputs": [],
   "source": [
    "w = count_vect.transform(X_test)"
   ]
  },
  {
   "cell_type": "code",
   "execution_count": null,
   "metadata": {
    "collapsed": true
   },
   "outputs": [],
   "source": []
  },
  {
   "cell_type": "code",
   "execution_count": 55,
   "metadata": {
    "collapsed": true
   },
   "outputs": [],
   "source": [
    "from sklearn.linear_model import LogisticRegression      # Importing Logistic Regression Function\n",
    "from sklearn import metrics"
   ]
  },
  {
   "cell_type": "code",
   "execution_count": null,
   "metadata": {
    "collapsed": true
   },
   "outputs": [],
   "source": []
  },
  {
   "cell_type": "code",
   "execution_count": 191,
   "metadata": {},
   "outputs": [
    {
     "name": "stdout",
     "output_type": "stream",
     "text": [
      "The accuracy of the logistic Regression classifier with 10 fold cross-validation is 0.695500045828\n"
     ]
    },
    {
     "data": {
      "text/plain": [
       "0.17950701316197712"
      ]
     },
     "execution_count": 191,
     "metadata": {},
     "output_type": "execute_result"
    }
   ],
   "source": [
    "start = time.time()              # Time function used to evaluate the execution run time for training logistic model\n",
    "\n",
    "logreg =  LogisticRegression(class_weight='balanced', multi_class='multinomial', solver='lbfgs',C = 0.5125)\n",
    "\n",
    "logreg_scores = cross_val_score(logreg, X1,y, cv=10, scoring='accuracy')\n",
    "print('The accuracy of the logistic Regression classifier with 10 fold cross-validation is ' + str(logreg_scores.mean()))\n",
    "\n",
    "end = time.time()\n",
    "logreg_time = (end - start)/60    # Time converted to Minutes\n",
    "logreg_time"
   ]
  },
  {
   "cell_type": "code",
   "execution_count": 164,
   "metadata": {},
   "outputs": [
    {
     "name": "stdout",
     "output_type": "stream",
     "text": [
      "Best set of parameters found:\n",
      "{'C': 0.51250000000000007}\n",
      "\n",
      "Scores on training set:\n",
      "0.683 (+/-0.072) for {'C': 0.10000000000000001}\n",
      "0.695 (+/-0.068) for {'C': 0.51250000000000007}\n",
      "0.693 (+/-0.066) for {'C': 0.92500000000000004}\n",
      "0.693 (+/-0.065) for {'C': 1.3375000000000001}\n",
      "0.693 (+/-0.064) for {'C': 1.7500000000000002}\n",
      "0.692 (+/-0.065) for {'C': 2.1625000000000001}\n",
      "0.692 (+/-0.066) for {'C': 2.5750000000000002}\n",
      "0.691 (+/-0.064) for {'C': 2.9875000000000003}\n",
      "0.690 (+/-0.065) for {'C': 3.4000000000000004}\n",
      "0.690 (+/-0.066) for {'C': 3.8125000000000004}\n",
      "0.689 (+/-0.065) for {'C': 4.2249999999999996}\n",
      "0.689 (+/-0.065) for {'C': 4.6375000000000002}\n",
      "0.688 (+/-0.064) for {'C': 5.0499999999999998}\n",
      "0.688 (+/-0.064) for {'C': 5.4625000000000004}\n",
      "0.687 (+/-0.064) for {'C': 5.875}\n",
      "0.687 (+/-0.065) for {'C': 6.2875000000000005}\n",
      "0.686 (+/-0.062) for {'C': 6.7000000000000002}\n",
      "0.686 (+/-0.064) for {'C': 7.1124999999999998}\n",
      "0.685 (+/-0.062) for {'C': 7.5250000000000004}\n",
      "0.685 (+/-0.063) for {'C': 7.9375}\n",
      "0.685 (+/-0.064) for {'C': 8.3499999999999996}\n",
      "0.684 (+/-0.063) for {'C': 8.7625000000000011}\n",
      "0.685 (+/-0.066) for {'C': 9.1750000000000007}\n",
      "0.684 (+/-0.064) for {'C': 9.5875000000000004}\n",
      "0.684 (+/-0.062) for {'C': 10.0}\n",
      "\n",
      "The hyperparameter tuning took:  266.56325221061707 seconds\n"
     ]
    }
   ],
   "source": [
    "start_time = time.time()\n",
    "\n",
    "logreg = LogisticRegression(class_weight='balanced', multi_class='multinomial', solver='lbfgs',random_state=0)\n",
    "param_grid = {'C':np.linspace(0.1,10, 25)}\n",
    "\n",
    "grid = GridSearchCV(logreg, param_grid, cv=10, scoring='accuracy')\n",
    "grid.fit(X1, y)\n",
    "\n",
    "print(\"Best set of parameters found:\")\n",
    "print(grid.best_params_)\n",
    "print()\n",
    "\n",
    "print(\"Scores on training set:\")\n",
    "means = grid.cv_results_['mean_test_score']\n",
    "stds = grid.cv_results_['std_test_score']\n",
    "for mean, std, params in zip(means, stds, grid.cv_results_['params']):\n",
    "    print(\"%0.3f (+/-%0.03f) for %r\"\n",
    "          % (mean, std * 2, params))\n",
    "print()\n",
    "print(\"The hyperparameter tuning took:  %s seconds\" % (time.time() - start_time))"
   ]
  },
  {
   "cell_type": "code",
   "execution_count": 57,
   "metadata": {},
   "outputs": [
    {
     "data": {
      "text/plain": [
       "70.651183970856096"
      ]
     },
     "execution_count": 57,
     "metadata": {},
     "output_type": "execute_result"
    }
   ],
   "source": [
    "logreg.fit(z, y_train.values.ravel())\n",
    "logreg_accuracy = logreg.score(w, y_test)*100    # Accuracy of the Logistic Regression Model on the test set\n",
    "logreg_accuracy"
   ]
  },
  {
   "cell_type": "code",
   "execution_count": 86,
   "metadata": {},
   "outputs": [
    {
     "data": {
      "text/plain": [
       "59.638574393140409"
      ]
     },
     "execution_count": 86,
     "metadata": {},
     "output_type": "execute_result"
    }
   ],
   "source": [
    "from sklearn.cross_validation import cross_val_score      # Importing Cross Validation from sklearn\n",
    "\n",
    "X1 =df1['text'].astype(str).values.tolist()\n",
    "X1 = count_vect.transform(X1)\n",
    "y = df1['airline_sentiment']\n",
    "\n",
    "Log_reg_cross_val = (cross_val_score(logreg, X, y, cv=10, scoring='accuracy').mean())\n",
    "Log_reg_cross_val*100                                      # Finding the mean accuracy of 10 cases"
   ]
  },
  {
   "cell_type": "code",
   "execution_count": null,
   "metadata": {
    "collapsed": true
   },
   "outputs": [],
   "source": []
  },
  {
   "cell_type": "code",
   "execution_count": 87,
   "metadata": {},
   "outputs": [
    {
     "name": "stdout",
     "output_type": "stream",
     "text": [
      "59.6385743931\n"
     ]
    }
   ],
   "source": [
    "from sklearn.feature_extraction.text import TfidfVectorizer   # Importing TfidfVectorizer\n",
    "Tfid_vect = TfidfVectorizer(min_df=1,max_features = 100)\n",
    "\n",
    "X2 =df1['text'].astype(str).values.tolist()            # Fitting or transforming text data to Tfidf Vectorizer\n",
    "X2 = Tfid_vect.fit_transform(X2)\n",
    "y = df1['airline_sentiment']\n",
    "\n",
    "Log_reg_Tfid_cross_val = (cross_val_score(logreg, X, y, cv=10, scoring='accuracy').mean())\n",
    "print(Log_reg_Tfid_cross_val*100)                                                     "
   ]
  },
  {
   "cell_type": "code",
   "execution_count": 61,
   "metadata": {},
   "outputs": [
    {
     "name": "stdout",
     "output_type": "stream",
     "text": [
      "True: ['negative' 'negative' 'neutral' 'negative' 'negative' 'positive'\n",
      " 'negative' 'negative' 'neutral' 'negative' 'positive' 'negative'\n",
      " 'negative' 'negative' 'positive' 'negative' 'negative' 'neutral'\n",
      " 'positive' 'negative' 'neutral' 'negative' 'neutral' 'negative' 'positive']\n"
     ]
    }
   ],
   "source": [
    "## Printing first 25 original and predicted classes for the tweets\n",
    "print('True:', y_test.values[0:25])\n",
    "#print('False:', y_pred_class[0:25])"
   ]
  },
  {
   "cell_type": "code",
   "execution_count": null,
   "metadata": {
    "collapsed": true
   },
   "outputs": [],
   "source": []
  },
  {
   "cell_type": "code",
   "execution_count": 197,
   "metadata": {
    "collapsed": true
   },
   "outputs": [],
   "source": [
    "from sklearn.ensemble import RandomForestClassifier\n",
    "forest = RandomForestClassifier()"
   ]
  },
  {
   "cell_type": "code",
   "execution_count": 198,
   "metadata": {},
   "outputs": [
    {
     "name": "stdout",
     "output_type": "stream",
     "text": [
      "The accuracy of the Random forest classifier with 10 fold cross-validation is 0.684838377148\n"
     ]
    },
    {
     "data": {
      "text/plain": [
       "0.7135929544766744"
      ]
     },
     "execution_count": 198,
     "metadata": {},
     "output_type": "execute_result"
    }
   ],
   "source": [
    "start_forest = time.time()\n",
    "\n",
    "forest_scores = cross_val_score(forest, X1, y, cv=10, scoring='accuracy')\n",
    "print('The accuracy of the Random forest classifier with 10 fold cross-validation is ' + str(forest_scores.mean()))\n",
    "\n",
    "end_forest = time.time()\n",
    "forest_time = (end_forest-start_forest)/60\n",
    "forest_time"
   ]
  },
  {
   "cell_type": "code",
   "execution_count": 68,
   "metadata": {},
   "outputs": [
    {
     "data": {
      "text/plain": [
       "0.96945745511319281"
      ]
     },
     "execution_count": 68,
     "metadata": {},
     "output_type": "execute_result"
    }
   ],
   "source": [
    "forest.fit(z, y_train.values.ravel())\n",
    "forest.score(z,y_train)    "
   ]
  },
  {
   "cell_type": "code",
   "execution_count": 69,
   "metadata": {},
   "outputs": [
    {
     "data": {
      "text/plain": [
       "70.104735883424411"
      ]
     },
     "execution_count": 69,
     "metadata": {},
     "output_type": "execute_result"
    }
   ],
   "source": [
    "forest_accuracy = forest.score(w, y_test)*100           ## Testing Accuracy for Random Forest Classifier\n",
    "forest_accuracy "
   ]
  },
  {
   "cell_type": "code",
   "execution_count": 205,
   "metadata": {},
   "outputs": [
    {
     "name": "stdout",
     "output_type": "stream",
     "text": [
      "The accuracy of the SVM classifier with 10 fold cross-validation is 0.71740541262\n"
     ]
    }
   ],
   "source": [
    "svc_2=SVC(kernel='rbf',C = 10, gamma = 0.05,)\n",
    "svc2_scores = cross_val_score(svc,z, y_train.values.ravel(), cv=10, scoring='accuracy')\n",
    "print('The accuracy of the SVM classifier with 10 fold cross-validation is ' + str(svc2_scores.mean()))"
   ]
  },
  {
   "cell_type": "code",
   "execution_count": 163,
   "metadata": {},
   "outputs": [
    {
     "name": "stdout",
     "output_type": "stream",
     "text": [
      "The accuracy of the SVM classifier with 10 fold cross-validation is 0.646380536186\n"
     ]
    }
   ],
   "source": [
    "svc_2=SVC(kernel='rbf')\n",
    "svc2_scores = cross_val_score(svc,X2,y, cv=10, scoring='accuracy')\n",
    "print('The accuracy of the SVM classifier with 10 fold cross-validation is ' + str(svc2_scores.mean()))"
   ]
  },
  {
   "cell_type": "code",
   "execution_count": 181,
   "metadata": {},
   "outputs": [
    {
     "data": {
      "text/plain": [
       "array(['negative', 'negative', 'positive', ..., 'negative', 'negative',\n",
       "       'positive'], dtype=object)"
      ]
     },
     "execution_count": 181,
     "metadata": {},
     "output_type": "execute_result"
    }
   ],
   "source": [
    "svc_2=SVC(kernel='rbf',C = 10, gamma = 0.05,)\n",
    "svc_2.fit(z, y_train.values.ravel())\n",
    "svc_2.predict(w)"
   ]
  },
  {
   "cell_type": "code",
   "execution_count": 207,
   "metadata": {},
   "outputs": [
    {
     "data": {
      "text/plain": [
       "SVC(C=10, cache_size=200, class_weight=None, coef0=0.0,\n",
       "  decision_function_shape=None, degree=3, gamma=0.05, kernel='rbf',\n",
       "  max_iter=-1, probability=False, random_state=None, shrinking=True,\n",
       "  tol=0.001, verbose=False)"
      ]
     },
     "execution_count": 207,
     "metadata": {},
     "output_type": "execute_result"
    }
   ],
   "source": [
    "svc_2.fit(z, y_train.values.ravel())"
   ]
  },
  {
   "cell_type": "code",
   "execution_count": 215,
   "metadata": {
    "collapsed": true
   },
   "outputs": [],
   "source": [
    "predicted = svc_2.predict(w)"
   ]
  },
  {
   "cell_type": "code",
   "execution_count": 209,
   "metadata": {},
   "outputs": [
    {
     "data": {
      "text/plain": [
       "0.73952641165755917"
      ]
     },
     "execution_count": 209,
     "metadata": {},
     "output_type": "execute_result"
    }
   ],
   "source": [
    "svc_2.score(w,y_test)   "
   ]
  },
  {
   "cell_type": "code",
   "execution_count": 218,
   "metadata": {},
   "outputs": [
    {
     "name": "stderr",
     "output_type": "stream",
     "text": [
      "C:\\Anaconda\\lib\\site-packages\\sklearn\\svm\\base.py:552: ChangedBehaviorWarning: The decision_function_shape default value will change from 'ovo' to 'ovr' in 0.19. This will change the shape of the decision function returned by SVC.\n",
      "  \"SVC.\", ChangedBehaviorWarning)\n"
     ]
    }
   ],
   "source": [
    "y_score = svc_2.fit(z, y_train.values.ravel()).decision_function(w)"
   ]
  },
  {
   "cell_type": "code",
   "execution_count": 190,
   "metadata": {},
   "outputs": [
    {
     "name": "stderr",
     "output_type": "stream",
     "text": [
      "The system cannot find the path specified.\n"
     ]
    }
   ],
   "source": [
    "!pip install mlxtend"
   ]
  },
  {
   "cell_type": "code",
   "execution_count": 184,
   "metadata": {
    "collapsed": true
   },
   "outputs": [],
   "source": [
    "from sklearn.metrics import confusion_matrix"
   ]
  },
  {
   "cell_type": "code",
   "execution_count": 185,
   "metadata": {
    "collapsed": true
   },
   "outputs": [],
   "source": [
    "cm_data = confusion_matrix(y_test, predicted)"
   ]
  },
  {
   "cell_type": "code",
   "execution_count": 193,
   "metadata": {},
   "outputs": [
    {
     "data": {
      "text/plain": [
       "array([[2394,  316,  113],\n",
       "       [ 272,  511,   92],\n",
       "       [ 160,  191,  343]])"
      ]
     },
     "execution_count": 193,
     "metadata": {},
     "output_type": "execute_result"
    }
   ],
   "source": [
    "cm_data"
   ]
  },
  {
   "cell_type": "code",
   "execution_count": 194,
   "metadata": {},
   "outputs": [
    {
     "data": {
      "text/plain": [
       "(14640, 15)"
      ]
     },
     "execution_count": 194,
     "metadata": {},
     "output_type": "execute_result"
    }
   ],
   "source": [
    "df.shape"
   ]
  },
  {
   "cell_type": "code",
   "execution_count": null,
   "metadata": {
    "collapsed": true
   },
   "outputs": [],
   "source": []
  },
  {
   "cell_type": "code",
   "execution_count": 192,
   "metadata": {},
   "outputs": [
    {
     "name": "stdout",
     "output_type": "stream",
     "text": [
      "Best set of parameters found:\n",
      "{'max_depth': 20, 'min_samples_leaf': 4, 'min_samples_split': 500, 'n_estimators': 10}\n",
      "\n",
      "Scores on training set:\n",
      "0.591 (+/-0.044) for {'max_depth': 20, 'min_samples_leaf': 4, 'min_samples_split': 200, 'n_estimators': 10}\n",
      "0.586 (+/-0.039) for {'max_depth': 20, 'min_samples_leaf': 4, 'min_samples_split': 200, 'n_estimators': 50}\n",
      "0.587 (+/-0.039) for {'max_depth': 20, 'min_samples_leaf': 4, 'min_samples_split': 200, 'n_estimators': 100}\n",
      "0.593 (+/-0.041) for {'max_depth': 20, 'min_samples_leaf': 4, 'min_samples_split': 500, 'n_estimators': 10}\n",
      "0.588 (+/-0.045) for {'max_depth': 20, 'min_samples_leaf': 4, 'min_samples_split': 500, 'n_estimators': 50}\n",
      "0.586 (+/-0.041) for {'max_depth': 20, 'min_samples_leaf': 4, 'min_samples_split': 500, 'n_estimators': 100}\n",
      "0.592 (+/-0.049) for {'max_depth': 20, 'min_samples_leaf': 4, 'min_samples_split': 1000, 'n_estimators': 10}\n",
      "0.585 (+/-0.041) for {'max_depth': 20, 'min_samples_leaf': 4, 'min_samples_split': 1000, 'n_estimators': 50}\n",
      "0.586 (+/-0.040) for {'max_depth': 20, 'min_samples_leaf': 4, 'min_samples_split': 1000, 'n_estimators': 100}\n",
      "0.590 (+/-0.047) for {'max_depth': 20, 'min_samples_leaf': 4, 'min_samples_split': 2000, 'n_estimators': 10}\n",
      "0.587 (+/-0.043) for {'max_depth': 20, 'min_samples_leaf': 4, 'min_samples_split': 2000, 'n_estimators': 50}\n",
      "0.586 (+/-0.041) for {'max_depth': 20, 'min_samples_leaf': 4, 'min_samples_split': 2000, 'n_estimators': 100}\n",
      "The hyperparameter tuning took:  121.69792604446411 seconds\n"
     ]
    }
   ],
   "source": [
    "from sklearn.model_selection import GridSearchCV\n",
    "from sklearn.metrics import classification_report\n",
    "import time\n",
    "start_time = time.time()\n",
    "parameters = {\n",
    "              \"n_estimators\" : [10,50,100],\n",
    "              'max_depth': [20],\n",
    "              \"min_samples_leaf\" : [4],\n",
    "               'min_samples_split' : [200,500,1000,2000]}\n",
    "\n",
    "\n",
    "opt_classifier = GridSearchCV(RandomForestClassifier(), parameters, cv = Kfold)\n",
    "opt_classifier.fit(X1,y)\n",
    "\n",
    "print(\"Best set of parameters found:\")\n",
    "print(opt_classifier.best_params_)\n",
    "print()\n",
    "print(\"Scores on training set:\")\n",
    "means = opt_classifier.cv_results_['mean_test_score']\n",
    "stds = opt_classifier.cv_results_['std_test_score']\n",
    "for mean, std, params in zip(means, stds, opt_classifier.cv_results_['params']):\n",
    "    print(\"%0.3f (+/-%0.03f) for %r\"\n",
    "          % (mean, std * 2, params))\n",
    "\n",
    "print(\"The hyperparameter tuning took:  %s seconds\" % (time.time() - start_time))"
   ]
  },
  {
   "cell_type": "code",
   "execution_count": 83,
   "metadata": {
    "collapsed": true
   },
   "outputs": [],
   "source": [
    "from sklearn.naive_bayes import MultinomialNB\n",
    "nb_classifier = MultinomialNB(alpha=1.0)"
   ]
  },
  {
   "cell_type": "code",
   "execution_count": 88,
   "metadata": {},
   "outputs": [
    {
     "name": "stdout",
     "output_type": "stream",
     "text": [
      "The accuracy of the Random forest classifier with 10 fold cross-validation is 0.709018430367\n"
     ]
    },
    {
     "data": {
      "text/plain": [
       "0.006994283199310303"
      ]
     },
     "execution_count": 88,
     "metadata": {},
     "output_type": "execute_result"
    }
   ],
   "source": [
    "start_NB = time.time()\n",
    "\n",
    "NB_scores = cross_val_score(nb_classifier, X1,y, cv=10, scoring='accuracy')\n",
    "print('The accuracy of the Random forest classifier with 10 fold cross-validation is ' + str(NB_scores.mean()))\n",
    "\n",
    "end_NB =time.time()\n",
    "NB_time = (end_NB-start_NB)/60\n",
    "NB_time"
   ]
  },
  {
   "cell_type": "code",
   "execution_count": 89,
   "metadata": {},
   "outputs": [
    {
     "name": "stdout",
     "output_type": "stream",
     "text": [
      "The accuracy of the Random forest classifier with 10 fold cross-validation is 0.653895274361\n"
     ]
    },
    {
     "data": {
      "text/plain": [
       "0.006357534726460775"
      ]
     },
     "execution_count": 89,
     "metadata": {},
     "output_type": "execute_result"
    }
   ],
   "source": [
    "start_NB = time.time()\n",
    "\n",
    "NB_scores = cross_val_score(nb_classifier, X2,y, cv=10, scoring='accuracy')\n",
    "print('The accuracy of the Random forest classifier with 10 fold cross-validation is ' + str(NB_scores.mean()))\n",
    "\n",
    "end_NB =time.time()\n",
    "NB_time = (end_NB-start_NB)/60\n",
    "NB_time"
   ]
  },
  {
   "cell_type": "code",
   "execution_count": 72,
   "metadata": {
    "collapsed": true
   },
   "outputs": [],
   "source": [
    "from sklearn.model_selection import GridSearchCV\n",
    "from sklearn.metrics import classification_report"
   ]
  },
  {
   "cell_type": "code",
   "execution_count": 92,
   "metadata": {},
   "outputs": [
    {
     "name": "stdout",
     "output_type": "stream",
     "text": [
      "Best set of parameters found:\n",
      "{'alpha': 1.0}\n",
      "\n",
      "Scores on training set:\n",
      "0.684 (+/-0.048) for {'alpha': 0.01}\n",
      "0.692 (+/-0.056) for {'alpha': 0.1}\n",
      "0.709 (+/-0.045) for {'alpha': 1.0}\n",
      "0.698 (+/-0.038) for {'alpha': 2.0}\n",
      "\n",
      "The hyperparameter tuning took:  1.9929265975952148 seconds\n"
     ]
    }
   ],
   "source": [
    "start_time = time.time()\n",
    "\n",
    "NB = MultinomialNB()\n",
    "\n",
    "param_grid = [{'alpha': [0.01,0.1,1.0,2.0]}]\n",
    "\n",
    "grid = GridSearchCV(NB, param_grid, cv=10, scoring='accuracy')\n",
    "grid.fit(X1,y)\n",
    "\n",
    "print(\"Best set of parameters found:\")\n",
    "print(grid.best_params_)\n",
    "print()\n",
    "\n",
    "print(\"Scores on training set:\")\n",
    "means = grid.cv_results_['mean_test_score']\n",
    "stds = grid.cv_results_['std_test_score']\n",
    "for mean, std, params in zip(means, stds, grid.cv_results_['params']):\n",
    "    print(\"%0.3f (+/-%0.03f) for %r\"\n",
    "          % (mean, std * 2, params))\n",
    "print()\n",
    "print(\"The hyperparameter tuning took:  %s seconds\" % (time.time() - start_time))"
   ]
  },
  {
   "cell_type": "code",
   "execution_count": null,
   "metadata": {
    "collapsed": true
   },
   "outputs": [],
   "source": []
  },
  {
   "cell_type": "code",
   "execution_count": null,
   "metadata": {
    "collapsed": true
   },
   "outputs": [],
   "source": [
    "from sklearn.metrics import accuracy_score \n",
    "NB_accuracy = (accuracy_score(nb_classifier_pred ,y_test))*100\n",
    "NB_accuracy"
   ]
  },
  {
   "cell_type": "code",
   "execution_count": null,
   "metadata": {
    "collapsed": true
   },
   "outputs": [],
   "source": [
    "classifiers = { }\n",
    "classifiers['Classifier'] = ['Logistic Regeression', 'Random Forest', 'Naive Bayesian']\n",
    "classifiers['Run_time'] = [logreg_time, forest_time,NB_time]\n",
    "classifiers['Accuracy'] = [logreg_accuracy, forest_accuracy, NB_accuracy]\n",
    "classifiers = pd.DataFrame(classifiers)\n",
    "classifiers"
   ]
  },
  {
   "cell_type": "code",
   "execution_count": null,
   "metadata": {
    "collapsed": true
   },
   "outputs": [],
   "source": [
    "sns.barplot(y =\"Accuracy\", x=\"Classifier\", data=classifiers); plt.show();"
   ]
  },
  {
   "cell_type": "code",
   "execution_count": 73,
   "metadata": {
    "collapsed": true
   },
   "outputs": [],
   "source": [
    "from sklearn.ensemble import GradientBoostingClassifier\n",
    "gb = GradientBoostingClassifier()"
   ]
  },
  {
   "cell_type": "code",
   "execution_count": null,
   "metadata": {
    "collapsed": true
   },
   "outputs": [],
   "source": []
  },
  {
   "cell_type": "code",
   "execution_count": null,
   "metadata": {
    "collapsed": true
   },
   "outputs": [],
   "source": [
    "np.random.seed(42)\n",
    "# start = time.time()\n",
    "# set ranges of parameters can be selected as different combination of model settings \n",
    "param_dist = {\n",
    "              \"n_estimators\" : [10,20,30,40,50,60,70],\n",
    "              'max_depth': [2, 3, 4,8,10,20],\n",
    "              'bootstrap': [True, False],\n",
    "              'max_features': ['sqrt', 'log2'],   \n",
    "              \"min_samples_leaf\" : [2,4,8],\n",
    "              'criterion': ['gini', 'entropy']}\n",
    "\n",
    "# conduct grid search for different models, same it as model named \"cv_rf\"\n",
    "# GridSearchCV: Exhaustive search over specified parameter values for an estimator.\n",
    "# fit_rf (default settings of RandomForestClassifier) are default settings (baseline model) that set to optimize\n",
    "# cv as corss validation \n",
    "# n_jobs: Number of jobs to run in parallel, default as 1\n",
    "# http://scikit-learn.org/stable/modules/generated/sklearn.model_selection.GridSearchCV.html\n",
    "\n",
    "cv_rf = GridSearchCV(fit_rf, cv = 5,\n",
    "                     param_grid=param_dist,\n",
    "                     n_jobs = 3)\n",
    "\n",
    "# use model to fit in X_train and y_train data. y_train as output \n",
    "cv_rf.fit(training_set, class_set)\n",
    "\n",
    "print('Best Parameters using grid search: \\n',\n",
    "      cv_rf.best_params_)\n",
    "\n",
    "# end = time.time()\n",
    "# print('Time taken in grid search: {0: .2f}'.format(end - start))"
   ]
  },
  {
   "cell_type": "code",
   "execution_count": 109,
   "metadata": {
    "collapsed": true
   },
   "outputs": [],
   "source": [
    "from sklearn.neighbors import KNeighborsClassifier\n",
    "knn = KNeighborsClassifier(n_neighbors=52)"
   ]
  },
  {
   "cell_type": "code",
   "execution_count": 104,
   "metadata": {},
   "outputs": [
    {
     "name": "stdout",
     "output_type": "stream",
     "text": [
      "The accuracy of the knn classifier with 10 fold cross-validation is 0.562303691977\n"
     ]
    }
   ],
   "source": [
    "knn_scores = cross_val_score(knn,X1,y, cv=10, scoring='accuracy')\n",
    "print('The accuracy of the knn classifier with 10 fold cross-validation is ' + str(knn_scores.mean()))"
   ]
  },
  {
   "cell_type": "code",
   "execution_count": 110,
   "metadata": {},
   "outputs": [
    {
     "name": "stdout",
     "output_type": "stream",
     "text": [
      "The accuracy of the knn classifier with 10 fold cross-validation is 0.64965908694\n"
     ]
    }
   ],
   "source": [
    "knn_scores = cross_val_score(knn,X2,y, cv=10, scoring='accuracy')\n",
    "print('The accuracy of the knn classifier with 10 fold cross-validation is ' + str(knn_scores.mean()))"
   ]
  },
  {
   "cell_type": "code",
   "execution_count": 98,
   "metadata": {},
   "outputs": [
    {
     "name": "stdout",
     "output_type": "stream",
     "text": [
      "Knn Mean score :  0.635859680968\n",
      "Knn Score variance :  0.000538519767971\n"
     ]
    }
   ],
   "source": [
    "knn_cv_mean = np.mean(knn_scores)\n",
    "knn_cv_variance = np.var(knn_scores)\n",
    "\n",
    "print('Knn Mean score : ', knn_cv_mean)\n",
    "print('Knn Score variance : ', knn_cv_variance)"
   ]
  },
  {
   "cell_type": "code",
   "execution_count": 112,
   "metadata": {},
   "outputs": [
    {
     "name": "stdout",
     "output_type": "stream",
     "text": [
      "The optimal number of neighbors is 52.\n"
     ]
    },
    {
     "data": {
      "image/png": "[encoded data removed]",
      "text/plain": [
       "<matplotlib.figure.Figure at 0x28a965744e0>"
      ]
     },
     "metadata": {},
     "output_type": "display_data"
    }
   ],
   "source": [
    "neighbors = range(1,100)\n",
    "\n",
    "# empty list that will hold cv scores\n",
    "cv_scores = []\n",
    "\n",
    "# perform 10-fold cross validation\n",
    "#for k in neighbors:\n",
    "for k in neighbors:\n",
    "    knn = KNeighborsClassifier(n_neighbors=k)\n",
    "    scores = cross_val_score(knn, X2,y, cv=10, scoring='accuracy')\n",
    "    cv_scores.append(scores.mean())\n",
    "\n",
    "# changing to misclassification error\n",
    "MSE = [1 - x for x in cv_scores]\n",
    "\n",
    "# determining best k\n",
    "optimal_k = neighbors[MSE.index(min(MSE))]\n",
    "print('The optimal number of neighbors is %d.' % optimal_k)\n",
    "\n",
    "# plot misclassification error vs k \n",
    "plt.plot(neighbors, MSE)\n",
    "plt.xlabel('Number of Neighbors K')\n",
    "plt.ylabel('Misclassification Error')\n",
    "plt.show()"
   ]
  },
  {
   "cell_type": "code",
   "execution_count": 156,
   "metadata": {},
   "outputs": [
    {
     "name": "stdout",
     "output_type": "stream",
     "text": [
      "The accuracy of the SVM classifier with 10 fold cross-validation is 0.727460442556\n"
     ]
    }
   ],
   "source": [
    "from sklearn.svm import SVC\n",
    "svc=SVC(kernel='linear')\n",
    "svc_scores = cross_val_score(svc,z, y_train.values.ravel(), cv=10, scoring='accuracy')\n",
    "print('The accuracy of the SVM classifier with 10 fold cross-validation is ' + str(svc_scores.mean()))"
   ]
  },
  {
   "cell_type": "code",
   "execution_count": 355,
   "metadata": {},
   "outputs": [
    {
     "name": "stdout",
     "output_type": "stream",
     "text": [
      "The accuracy of the SVM classifier with 10 fold cross-validation is 0.726293285403\n"
     ]
    }
   ],
   "source": [
    "svc_2=SVC(kernel='rbf',gamma =0.05,C = 10)\n",
    "svc2_scores = cross_val_score(svc,z, y_train.values.ravel(), cv=10, scoring='accuracy')\n",
    "print('The accuracy of the SVM classifier with 10 fold cross-validation is ' + str(svc2_scores.mean()))"
   ]
  },
  {
   "cell_type": "code",
   "execution_count": 120,
   "metadata": {
    "collapsed": true
   },
   "outputs": [],
   "source": [
    "# K-fold cross validation\n",
    "# preparing the K-fold parameters\n",
    "from sklearn import cross_validation\n",
    "from sklearn.cross_validation import KFold, cross_val_score\n",
    "\n",
    "Kfold = KFold(len(X_train),n_folds = 10,shuffle = True)\n",
    "#print(\"K-fold Cross Val score using SVM is:  %s\" %cross_val_score(SVC(),X,y,cv=Kfold).mean())"
   ]
  },
  {
   "cell_type": "code",
   "execution_count": null,
   "metadata": {
    "collapsed": true
   },
   "outputs": [],
   "source": []
  },
  {
   "cell_type": "code",
   "execution_count": 354,
   "metadata": {},
   "outputs": [
    {
     "name": "stdout",
     "output_type": "stream",
     "text": [
      "Best set of parameters found:\n",
      "{'C': 10, 'gamma': 0.05, 'kernel': 'rbf'}\n",
      "\n",
      "Scores on training set:\n",
      "0.627 (+/-0.033) for {'C': 0.001, 'kernel': 'linear'}\n",
      "0.640 (+/-0.035) for {'C': 0.01, 'kernel': 'linear'}\n",
      "0.724 (+/-0.037) for {'C': 0.1, 'kernel': 'linear'}\n",
      "0.729 (+/-0.029) for {'C': 1, 'kernel': 'linear'}\n",
      "0.718 (+/-0.030) for {'C': 2, 'kernel': 'linear'}\n",
      "0.686 (+/-0.025) for {'C': 10, 'kernel': 'linear'}\n",
      "0.627 (+/-0.033) for {'C': 0.001, 'gamma': 0.005, 'kernel': 'rbf'}\n",
      "0.627 (+/-0.033) for {'C': 0.001, 'gamma': 0.05, 'kernel': 'rbf'}\n",
      "0.627 (+/-0.033) for {'C': 0.001, 'gamma': 0.5, 'kernel': 'rbf'}\n",
      "0.627 (+/-0.033) for {'C': 0.001, 'gamma': 5, 'kernel': 'rbf'}\n",
      "0.627 (+/-0.033) for {'C': 0.01, 'gamma': 0.005, 'kernel': 'rbf'}\n",
      "0.627 (+/-0.033) for {'C': 0.01, 'gamma': 0.05, 'kernel': 'rbf'}\n",
      "0.627 (+/-0.033) for {'C': 0.01, 'gamma': 0.5, 'kernel': 'rbf'}\n",
      "0.627 (+/-0.033) for {'C': 0.01, 'gamma': 5, 'kernel': 'rbf'}\n",
      "0.628 (+/-0.033) for {'C': 0.5, 'gamma': 0.005, 'kernel': 'rbf'}\n",
      "0.674 (+/-0.038) for {'C': 0.5, 'gamma': 0.05, 'kernel': 'rbf'}\n",
      "0.672 (+/-0.030) for {'C': 0.5, 'gamma': 0.5, 'kernel': 'rbf'}\n",
      "0.648 (+/-0.032) for {'C': 0.5, 'gamma': 5, 'kernel': 'rbf'}\n",
      "0.642 (+/-0.036) for {'C': 1, 'gamma': 0.005, 'kernel': 'rbf'}\n",
      "0.731 (+/-0.036) for {'C': 1, 'gamma': 0.05, 'kernel': 'rbf'}\n",
      "0.684 (+/-0.028) for {'C': 1, 'gamma': 0.5, 'kernel': 'rbf'}\n",
      "0.657 (+/-0.032) for {'C': 1, 'gamma': 5, 'kernel': 'rbf'}\n",
      "0.738 (+/-0.038) for {'C': 10, 'gamma': 0.005, 'kernel': 'rbf'}\n",
      "0.741 (+/-0.031) for {'C': 10, 'gamma': 0.05, 'kernel': 'rbf'}\n",
      "0.683 (+/-0.030) for {'C': 10, 'gamma': 0.5, 'kernel': 'rbf'}\n",
      "0.657 (+/-0.032) for {'C': 10, 'gamma': 5, 'kernel': 'rbf'}\n",
      "The hyperparameter tuning took:  3039.569837808609 seconds\n"
     ]
    }
   ],
   "source": [
    "from sklearn.model_selection import GridSearchCV\n",
    "from sklearn.metrics import classification_report\n",
    "import time\n",
    "start_time = time.time()\n",
    "parameters = [{'kernel': ['linear'], 'C': [0.001, 0.01, 0.1, 1, 2, 10]},\n",
    "              {'kernel': ['rbf'],\n",
    "               'gamma': [0.005, 0.05, 0.5, 5],\n",
    "                'C': [0.001, 0.01, 0.5, 1, 10]}]\n",
    "\n",
    "opt_classifier = GridSearchCV(SVC(), parameters, cv = Kfold)\n",
    "opt_classifier.fit(z, y_train.values.ravel())\n",
    "\n",
    "print(\"Best set of parameters found:\")\n",
    "print(opt_classifier.best_params_)\n",
    "print()\n",
    "print(\"Scores on training set:\")\n",
    "means = opt_classifier.cv_results_['mean_test_score']\n",
    "stds = opt_classifier.cv_results_['std_test_score']\n",
    "for mean, std, params in zip(means, stds, opt_classifier.cv_results_['params']):\n",
    "    print(\"%0.3f (+/-%0.03f) for %r\"\n",
    "          % (mean, std * 2, params))\n",
    "\n",
    "print(\"The hyperparameter tuning took:  %s seconds\" % (time.time() - start_time))"
   ]
  }
 ],
 "metadata": {
  "kernelspec": {
   "display_name": "Python 3",
   "language": "python",
   "name": "python3"
  },
  "language_info": {
   "codemirror_mode": {
    "name": "ipython",
    "version": 3
   },
   "file_extension": ".py",
   "mimetype": "text/x-python",
   "name": "python",
   "nbconvert_exporter": "python",
   "pygments_lexer": "ipython3",
   "version": "3.6.1"
  }
 },
 "nbformat": 4,
 "nbformat_minor": 2
}
