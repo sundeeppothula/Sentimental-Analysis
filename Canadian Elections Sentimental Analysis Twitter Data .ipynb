{
 "cells": [
  {
   "cell_type": "markdown",
   "metadata": {},
   "source": [
    "   #               <font color=green>  MIE1624H:    Assignment 1 - Text Analytics and Sentiment Analysis\n",
    "                                                      By\n",
    "                                           Sundeep Pothula - 1004588225\n",
    "                                                  "
   ]
  },
  {
   "cell_type": "markdown",
   "metadata": {},
   "source": [
    "## Introduction:\n",
    "Problem Definition: Using sentiment analysis on Twitter data to get insight into the 2015 Canadian elections. \n",
    "Different models are used for the binary classification of tweets to predict them either to be positive or negative and analysis on accuracy of using these classifiers is presented in this notebook. Additionally stop words and using count_vectorizer vs idifvectorizer affect on accuracy of model is presented. Finally predicted positivities for each political party using sentimental analysis is discussed.\n"
   ]
  },
  {
   "cell_type": "code",
   "execution_count": 1,
   "metadata": {
    "collapsed": true
   },
   "outputs": [],
   "source": [
    "# Importing the required libraries - ALl other Remaining libraries are imported when and where required in notebook\n",
    "import pandas as pd\n",
    "import numpy as np\n",
    "import matplotlib.pyplot as plt\n",
    "import time\n",
    "import os\n",
    "try:\n",
    "    import nltk\n",
    "except:\n",
    "    !pip install nltk"
   ]
  },
  {
   "cell_type": "markdown",
   "metadata": {},
   "source": [
    "## 1. Data Preparation:\n",
    "### Reading the data\n",
    "classified_tweets and unclassified_tweets datasets are imported into pandasdataframe. Pandas dataframe makes it easier and faster to query each and every tweet for data cleaning and all other steps.  "
   ]
  },
  {
   "cell_type": "code",
   "execution_count": 2,
   "metadata": {
    "collapsed": true
   },
   "outputs": [],
   "source": [
    "# changing the current working directory and importing data to pandas dataframes\n",
    "os.chdir(r\"\\\\SRVA\\Homes$\\pothulas\\Desktop\\Sentimental Analysis\")\n",
    "classified = pd.read_csv(\"classified_tweets.txt\")\n",
    "unclassified=pd.read_csv(\"unclassified_tweets.txt\", header= None, names=['tweets'])"
   ]
  },
  {
   "cell_type": "markdown",
   "metadata": {},
   "source": [
    "### Primary Analysis of data sets:\n",
    "#### Classified_tweets"
   ]
  },
  {
   "cell_type": "code",
   "execution_count": 3,
   "metadata": {},
   "outputs": [
    {
     "data": {
      "text/html": [
       "<div>\n",
       "<style>\n",
       "    .dataframe thead tr:only-child th {\n",
       "        text-align: right;\n",
       "    }\n",
       "\n",
       "    .dataframe thead th {\n",
       "        text-align: left;\n",
       "    }\n",
       "\n",
       "    .dataframe tbody tr th {\n",
       "        vertical-align: top;\n",
       "    }\n",
       "</style>\n",
       "<table border=\"1\" class=\"dataframe\">\n",
       "  <thead>\n",
       "    <tr style=\"text-align: right;\">\n",
       "      <th></th>\n",
       "      <th>class</th>\n",
       "      <th>id</th>\n",
       "      <th>date</th>\n",
       "      <th>query</th>\n",
       "      <th>user</th>\n",
       "      <th>text</th>\n",
       "    </tr>\n",
       "  </thead>\n",
       "  <tbody>\n",
       "    <tr>\n",
       "      <th>0</th>\n",
       "      <td>0</td>\n",
       "      <td>1467810369</td>\n",
       "      <td>Mon Apr 06 22:19:45 PDT 2009</td>\n",
       "      <td>NO_QUERY</td>\n",
       "      <td>_TheSpecialOne_</td>\n",
       "      <td>@switchfoot http://twitpic.com/2y1zl - Awww, t...</td>\n",
       "    </tr>\n",
       "    <tr>\n",
       "      <th>1</th>\n",
       "      <td>0</td>\n",
       "      <td>1467810672</td>\n",
       "      <td>Mon Apr 06 22:19:49 PDT 2009</td>\n",
       "      <td>NO_QUERY</td>\n",
       "      <td>scotthamilton</td>\n",
       "      <td>is upset that he can't update his Facebook by ...</td>\n",
       "    </tr>\n",
       "    <tr>\n",
       "      <th>2</th>\n",
       "      <td>0</td>\n",
       "      <td>1467810917</td>\n",
       "      <td>Mon Apr 06 22:19:53 PDT 2009</td>\n",
       "      <td>NO_QUERY</td>\n",
       "      <td>mattycus</td>\n",
       "      <td>@Kenichan I dived many times for the ball. Man...</td>\n",
       "    </tr>\n",
       "    <tr>\n",
       "      <th>3</th>\n",
       "      <td>0</td>\n",
       "      <td>1467811184</td>\n",
       "      <td>Mon Apr 06 22:19:57 PDT 2009</td>\n",
       "      <td>NO_QUERY</td>\n",
       "      <td>ElleCTF</td>\n",
       "      <td>my whole body feels itchy and like its on fire</td>\n",
       "    </tr>\n",
       "    <tr>\n",
       "      <th>4</th>\n",
       "      <td>0</td>\n",
       "      <td>1467811193</td>\n",
       "      <td>Mon Apr 06 22:19:57 PDT 2009</td>\n",
       "      <td>NO_QUERY</td>\n",
       "      <td>Karoli</td>\n",
       "      <td>@nationwideclass no, it's not behaving at all....</td>\n",
       "    </tr>\n",
       "  </tbody>\n",
       "</table>\n",
       "</div>"
      ],
      "text/plain": [
       "   class          id                          date     query             user  \\\n",
       "0      0  1467810369  Mon Apr 06 22:19:45 PDT 2009  NO_QUERY  _TheSpecialOne_   \n",
       "1      0  1467810672  Mon Apr 06 22:19:49 PDT 2009  NO_QUERY    scotthamilton   \n",
       "2      0  1467810917  Mon Apr 06 22:19:53 PDT 2009  NO_QUERY         mattycus   \n",
       "3      0  1467811184  Mon Apr 06 22:19:57 PDT 2009  NO_QUERY          ElleCTF   \n",
       "4      0  1467811193  Mon Apr 06 22:19:57 PDT 2009  NO_QUERY           Karoli   \n",
       "\n",
       "                                                text  \n",
       "0  @switchfoot http://twitpic.com/2y1zl - Awww, t...  \n",
       "1  is upset that he can't update his Facebook by ...  \n",
       "2  @Kenichan I dived many times for the ball. Man...  \n",
       "3    my whole body feels itchy and like its on fire   \n",
       "4  @nationwideclass no, it's not behaving at all....  "
      ]
     },
     "execution_count": 3,
     "metadata": {},
     "output_type": "execute_result"
    }
   ],
   "source": [
    "classified.head()                  # Analyzing the raw data and identifying various columns present"
   ]
  },
  {
   "cell_type": "code",
   "execution_count": 4,
   "metadata": {},
   "outputs": [
    {
     "data": {
      "text/plain": [
       "(200000, 6)"
      ]
     },
     "execution_count": 4,
     "metadata": {},
     "output_type": "execute_result"
    }
   ],
   "source": [
    "classified.shape                  # To get info about number of tweets and number features given"
   ]
  },
  {
   "cell_type": "markdown",
   "metadata": {},
   "source": [
    "#### Unclassified_tweets"
   ]
  },
  {
   "cell_type": "code",
   "execution_count": 5,
   "metadata": {},
   "outputs": [
    {
     "data": {
      "text/html": [
       "<div>\n",
       "<style>\n",
       "    .dataframe thead tr:only-child th {\n",
       "        text-align: right;\n",
       "    }\n",
       "\n",
       "    .dataframe thead th {\n",
       "        text-align: left;\n",
       "    }\n",
       "\n",
       "    .dataframe tbody tr th {\n",
       "        vertical-align: top;\n",
       "    }\n",
       "</style>\n",
       "<table border=\"1\" class=\"dataframe\">\n",
       "  <thead>\n",
       "    <tr style=\"text-align: right;\">\n",
       "      <th></th>\n",
       "      <th>tweets</th>\n",
       "    </tr>\n",
       "  </thead>\n",
       "  <tbody>\n",
       "    <tr>\n",
       "      <th>0</th>\n",
       "      <td>living the dream. #cameraman #camera #camerace...</td>\n",
       "    </tr>\n",
       "    <tr>\n",
       "      <th>1</th>\n",
       "      <td>justin #trudeau's reasons for thanksgiving. to...</td>\n",
       "    </tr>\n",
       "    <tr>\n",
       "      <th>2</th>\n",
       "      <td>@themadape   butt…..butt…..we’re allergic to l...</td>\n",
       "    </tr>\n",
       "    <tr>\n",
       "      <th>3</th>\n",
       "      <td>2 massive explosions at peace march in #turkey...</td>\n",
       "    </tr>\n",
       "    <tr>\n",
       "      <th>4</th>\n",
       "      <td>#mulcair suggests there’s bad blood between hi...</td>\n",
       "    </tr>\n",
       "  </tbody>\n",
       "</table>\n",
       "</div>"
      ],
      "text/plain": [
       "                                              tweets\n",
       "0  living the dream. #cameraman #camera #camerace...\n",
       "1  justin #trudeau's reasons for thanksgiving. to...\n",
       "2  @themadape   butt…..butt…..we’re allergic to l...\n",
       "3  2 massive explosions at peace march in #turkey...\n",
       "4  #mulcair suggests there’s bad blood between hi..."
      ]
     },
     "execution_count": 5,
     "metadata": {},
     "output_type": "execute_result"
    }
   ],
   "source": [
    "unclassified.head()               # Analyzing the raw data for unclassified dataset "
   ]
  },
  {
   "cell_type": "code",
   "execution_count": 6,
   "metadata": {},
   "outputs": [
    {
     "data": {
      "text/plain": [
       "(3026, 1)"
      ]
     },
     "execution_count": 6,
     "metadata": {},
     "output_type": "execute_result"
    }
   ],
   "source": [
    "unclassified.shape                # To get info about number of tweets and number features given"
   ]
  },
  {
   "cell_type": "markdown",
   "metadata": {},
   "source": [
    "Dropping Unnecessary columns in Dataframe: Since the id, date, query and user columns are not necessary for the sentimental analysis they are deleted from the dataframe"
   ]
  },
  {
   "cell_type": "code",
   "execution_count": 7,
   "metadata": {},
   "outputs": [
    {
     "data": {
      "text/html": [
       "<div>\n",
       "<style>\n",
       "    .dataframe thead tr:only-child th {\n",
       "        text-align: right;\n",
       "    }\n",
       "\n",
       "    .dataframe thead th {\n",
       "        text-align: left;\n",
       "    }\n",
       "\n",
       "    .dataframe tbody tr th {\n",
       "        vertical-align: top;\n",
       "    }\n",
       "</style>\n",
       "<table border=\"1\" class=\"dataframe\">\n",
       "  <thead>\n",
       "    <tr style=\"text-align: right;\">\n",
       "      <th></th>\n",
       "      <th>class</th>\n",
       "      <th>text</th>\n",
       "    </tr>\n",
       "  </thead>\n",
       "  <tbody>\n",
       "    <tr>\n",
       "      <th>0</th>\n",
       "      <td>0</td>\n",
       "      <td>@switchfoot http://twitpic.com/2y1zl - Awww, t...</td>\n",
       "    </tr>\n",
       "    <tr>\n",
       "      <th>1</th>\n",
       "      <td>0</td>\n",
       "      <td>is upset that he can't update his Facebook by ...</td>\n",
       "    </tr>\n",
       "    <tr>\n",
       "      <th>2</th>\n",
       "      <td>0</td>\n",
       "      <td>@Kenichan I dived many times for the ball. Man...</td>\n",
       "    </tr>\n",
       "    <tr>\n",
       "      <th>3</th>\n",
       "      <td>0</td>\n",
       "      <td>my whole body feels itchy and like its on fire</td>\n",
       "    </tr>\n",
       "    <tr>\n",
       "      <th>4</th>\n",
       "      <td>0</td>\n",
       "      <td>@nationwideclass no, it's not behaving at all....</td>\n",
       "    </tr>\n",
       "  </tbody>\n",
       "</table>\n",
       "</div>"
      ],
      "text/plain": [
       "   class                                               text\n",
       "0      0  @switchfoot http://twitpic.com/2y1zl - Awww, t...\n",
       "1      0  is upset that he can't update his Facebook by ...\n",
       "2      0  @Kenichan I dived many times for the ball. Man...\n",
       "3      0    my whole body feels itchy and like its on fire \n",
       "4      0  @nationwideclass no, it's not behaving at all...."
      ]
     },
     "execution_count": 7,
     "metadata": {},
     "output_type": "execute_result"
    }
   ],
   "source": [
    "columns =['id','date','query','user']\n",
    "classified = classified.drop(columns,1)         # Dropping Unnecessary columns from Classified dataset\n",
    "classified.head()"
   ]
  },
  {
   "cell_type": "markdown",
   "metadata": {},
   "source": [
    "### Data cleaning steps:\n",
    "Data cleaning is an important step in any Data science project since the success of projects heavily depends on the quality of prepared data. In our case- presenece of Urls, stopwords and special characters might significantly affect the model evaluation and fitting. Therefore, all these characters are removed from the tweets using regular expressions and string replace functions."
   ]
  },
  {
   "cell_type": "code",
   "execution_count": 8,
   "metadata": {
    "collapsed": true
   },
   "outputs": [],
   "source": [
    "import re\n",
    "import string\n",
    "def cleaning(tweet):\n",
    "  cleanr = re.compile('<.*?>')      # logic: Removing HTML tags by using regular expressions\n",
    "  clean1 = re.sub(cleanr, '', tweet)\n",
    "  clean2 = re.sub(r'[a-z]*[:.]+\\S+', \"\", clean1)  #Removing Url('.' with continous string on eitherside if present is removed )\n",
    "  clean3 = str(clean2).replace('\\xa0',' ')\n",
    "  clean4 = str(clean3).lower()              # converting all tweets to lower case to create uniformity for model fitting of words\n",
    "  translation = str.maketrans('', '', string.punctuation)\n",
    "  clean5 = clean4.translate(translation)        # Removing all special characters\n",
    "  clean6 = clean5.replace('…', ' ')\n",
    "  return clean6"
   ]
  },
  {
   "cell_type": "markdown",
   "metadata": {},
   "source": [
    "#### Unclassified Tweet before cleaning:"
   ]
  },
  {
   "cell_type": "code",
   "execution_count": 9,
   "metadata": {},
   "outputs": [
    {
     "data": {
      "text/plain": [
       "\"justin #trudeau's reasons for thanksgiving. today's montreal@themoment blog at bit.ly/1jqkfwr\\xa0 #elxn42 poll #quebec #montreal\""
      ]
     },
     "execution_count": 9,
     "metadata": {},
     "output_type": "execute_result"
    }
   ],
   "source": [
    "unclassified.tweets[1]"
   ]
  },
  {
   "cell_type": "markdown",
   "metadata": {},
   "source": [
    "#### Classified Tweet before cleaning:"
   ]
  },
  {
   "cell_type": "code",
   "execution_count": 10,
   "metadata": {},
   "outputs": [
    {
     "data": {
      "text/plain": [
       "' Body Of Missing Northern Calif. Girl Found: Police have found the remains of a missing Northern California girl .. http://tr.im/imji'"
      ]
     },
     "execution_count": 10,
     "metadata": {},
     "output_type": "execute_result"
    }
   ],
   "source": [
    "classified.text[100]"
   ]
  },
  {
   "cell_type": "code",
   "execution_count": 11,
   "metadata": {
    "collapsed": true
   },
   "outputs": [],
   "source": [
    "classified['text'] = classified.text.apply(lambda x: cleaning(x)) # using lambda func. to call cleaning func. for every tweet\n",
    "unclassified['tweets'] = unclassified.tweets.apply(lambda x: cleaning(str(x)))"
   ]
  },
  {
   "cell_type": "markdown",
   "metadata": {},
   "source": [
    "#### Unclassified Tweet after cleaning:"
   ]
  },
  {
   "cell_type": "code",
   "execution_count": 12,
   "metadata": {},
   "outputs": [
    {
     "data": {
      "text/plain": [
       "'justin trudeaus reasons for thanksgiving todays montrealthemoment blog at   elxn42 poll quebec montreal'"
      ]
     },
     "execution_count": 12,
     "metadata": {},
     "output_type": "execute_result"
    }
   ],
   "source": [
    "unclassified['tweets'][1]"
   ]
  },
  {
   "cell_type": "markdown",
   "metadata": {},
   "source": [
    "#### Classified Tweet after cleaning:"
   ]
  },
  {
   "cell_type": "code",
   "execution_count": 13,
   "metadata": {},
   "outputs": [
    {
     "data": {
      "text/plain": [
       "' body of missing northern calif girl found police have found the remains of a missing northern california girl  '"
      ]
     },
     "execution_count": 13,
     "metadata": {},
     "output_type": "execute_result"
    }
   ],
   "source": [
    "classified.text[100]"
   ]
  },
  {
   "cell_type": "code",
   "execution_count": 67,
   "metadata": {
    "collapsed": true
   },
   "outputs": [],
   "source": [
    "classified_withstopwords = classified"
   ]
  },
  {
   "cell_type": "markdown",
   "metadata": {},
   "source": [
    "### Word Tokenization - Using NLTK\n",
    "Stop words can be removed either by searching for them in each string or searching for stopwords by tokenizing the tweets. By doing word tokenization we can remove all the stopwords in faster way when compared to removing stopwords from strings. Hence word tokenization of classified and unclassified tweets is done first before removing stopwords."
   ]
  },
  {
   "cell_type": "code",
   "execution_count": 14,
   "metadata": {
    "collapsed": true
   },
   "outputs": [],
   "source": [
    "from nltk.tokenize import word_tokenize\n",
    "classified['text'] = classified.text.apply(lambda x: word_tokenize(x))\n",
    "unclassified['tweets'] = unclassified.tweets.apply(lambda x: word_tokenize(x))"
   ]
  },
  {
   "cell_type": "code",
   "execution_count": 15,
   "metadata": {},
   "outputs": [
    {
     "data": {
      "text/html": [
       "<div>\n",
       "<style>\n",
       "    .dataframe thead tr:only-child th {\n",
       "        text-align: right;\n",
       "    }\n",
       "\n",
       "    .dataframe thead th {\n",
       "        text-align: left;\n",
       "    }\n",
       "\n",
       "    .dataframe tbody tr th {\n",
       "        vertical-align: top;\n",
       "    }\n",
       "</style>\n",
       "<table border=\"1\" class=\"dataframe\">\n",
       "  <thead>\n",
       "    <tr style=\"text-align: right;\">\n",
       "      <th></th>\n",
       "      <th>class</th>\n",
       "      <th>text</th>\n",
       "    </tr>\n",
       "  </thead>\n",
       "  <tbody>\n",
       "    <tr>\n",
       "      <th>0</th>\n",
       "      <td>0</td>\n",
       "      <td>[switchfoot, awww, thats, a, bummer, you, shou...</td>\n",
       "    </tr>\n",
       "    <tr>\n",
       "      <th>1</th>\n",
       "      <td>0</td>\n",
       "      <td>[is, upset, that, he, cant, update, his, faceb...</td>\n",
       "    </tr>\n",
       "    <tr>\n",
       "      <th>2</th>\n",
       "      <td>0</td>\n",
       "      <td>[kenichan, i, dived, many, times, for, the, ba...</td>\n",
       "    </tr>\n",
       "    <tr>\n",
       "      <th>3</th>\n",
       "      <td>0</td>\n",
       "      <td>[my, whole, body, feels, itchy, and, like, its...</td>\n",
       "    </tr>\n",
       "    <tr>\n",
       "      <th>4</th>\n",
       "      <td>0</td>\n",
       "      <td>[nationwideclass, no, its, not, behaving, at, ...</td>\n",
       "    </tr>\n",
       "  </tbody>\n",
       "</table>\n",
       "</div>"
      ],
      "text/plain": [
       "   class                                               text\n",
       "0      0  [switchfoot, awww, thats, a, bummer, you, shou...\n",
       "1      0  [is, upset, that, he, cant, update, his, faceb...\n",
       "2      0  [kenichan, i, dived, many, times, for, the, ba...\n",
       "3      0  [my, whole, body, feels, itchy, and, like, its...\n",
       "4      0  [nationwideclass, no, its, not, behaving, at, ..."
      ]
     },
     "execution_count": 15,
     "metadata": {},
     "output_type": "execute_result"
    }
   ],
   "source": [
    "classified.head()"
   ]
  },
  {
   "cell_type": "code",
   "execution_count": 16,
   "metadata": {},
   "outputs": [
    {
     "data": {
      "text/html": [
       "<div>\n",
       "<style>\n",
       "    .dataframe thead tr:only-child th {\n",
       "        text-align: right;\n",
       "    }\n",
       "\n",
       "    .dataframe thead th {\n",
       "        text-align: left;\n",
       "    }\n",
       "\n",
       "    .dataframe tbody tr th {\n",
       "        vertical-align: top;\n",
       "    }\n",
       "</style>\n",
       "<table border=\"1\" class=\"dataframe\">\n",
       "  <thead>\n",
       "    <tr style=\"text-align: right;\">\n",
       "      <th></th>\n",
       "      <th>tweets</th>\n",
       "    </tr>\n",
       "  </thead>\n",
       "  <tbody>\n",
       "    <tr>\n",
       "      <th>0</th>\n",
       "      <td>[living, the, dream, cameraman, camera, camera...</td>\n",
       "    </tr>\n",
       "    <tr>\n",
       "      <th>1</th>\n",
       "      <td>[justin, trudeaus, reasons, for, thanksgiving,...</td>\n",
       "    </tr>\n",
       "    <tr>\n",
       "      <th>2</th>\n",
       "      <td>[themadape, butt, allergic, to, latex, makes, ...</td>\n",
       "    </tr>\n",
       "    <tr>\n",
       "      <th>3</th>\n",
       "      <td>[2, massive, explosions, at, peace, march, in,...</td>\n",
       "    </tr>\n",
       "    <tr>\n",
       "      <th>4</th>\n",
       "      <td>[mulcair, suggests, there, ’, s, bad, blood, b...</td>\n",
       "    </tr>\n",
       "  </tbody>\n",
       "</table>\n",
       "</div>"
      ],
      "text/plain": [
       "                                              tweets\n",
       "0  [living, the, dream, cameraman, camera, camera...\n",
       "1  [justin, trudeaus, reasons, for, thanksgiving,...\n",
       "2  [themadape, butt, allergic, to, latex, makes, ...\n",
       "3  [2, massive, explosions, at, peace, march, in,...\n",
       "4  [mulcair, suggests, there, ’, s, bad, blood, b..."
      ]
     },
     "execution_count": 16,
     "metadata": {},
     "output_type": "execute_result"
    }
   ],
   "source": [
    "unclassified.head()"
   ]
  },
  {
   "cell_type": "markdown",
   "metadata": {},
   "source": [
    "#### Removing Stopwords from the Tweets:\n",
    "python NLTK library has inbuilt stopwords list. But when counted, it is having only 179 stopwords in it. Therfore, stopwords list provided in the assignment data is used since it is having more number of stopwords (665) which may improve prediction accuracy of model by removing more unnecesaary words. [But this claim about effect of stopwords for model prediction accuracy is further verified in the Modellling section]"
   ]
  },
  {
   "cell_type": "code",
   "execution_count": 17,
   "metadata": {},
   "outputs": [
    {
     "data": {
      "text/plain": [
       "179"
      ]
     },
     "execution_count": 17,
     "metadata": {},
     "output_type": "execute_result"
    }
   ],
   "source": [
    "from nltk.corpus import stopwords\n",
    "len(stopwords.words('english'))"
   ]
  },
  {
   "cell_type": "code",
   "execution_count": 18,
   "metadata": {},
   "outputs": [
    {
     "name": "stdout",
     "output_type": "stream",
     "text": [
      "665\n"
     ]
    }
   ],
   "source": [
    "stop=pd.read_csv(\"stop_words.txt\", header=None)\n",
    "print(len(stop))\n",
    "stop = set(stop[0])     # Lambda Function used to query each tweet and only select words that are not in stopwords list\n",
    "unclassified.tweets = unclassified['tweets'].apply(lambda x: [word for word in x if word not in stop])\n",
    "classified.text = classified['text'].apply(lambda x: [word for word in x if word not in stop])"
   ]
  },
  {
   "cell_type": "markdown",
   "metadata": {},
   "source": [
    "#### Checking the after removing Stopwords:"
   ]
  },
  {
   "cell_type": "code",
   "execution_count": 19,
   "metadata": {},
   "outputs": [
    {
     "data": {
      "text/plain": [
       "['kenichan',\n",
       " 'dived',\n",
       " 'times',\n",
       " 'ball',\n",
       " 'managed',\n",
       " 'save',\n",
       " '50',\n",
       " 'rest',\n",
       " 'bounds']"
      ]
     },
     "execution_count": 19,
     "metadata": {},
     "output_type": "execute_result"
    }
   ],
   "source": [
    "classified.text[2]"
   ]
  },
  {
   "cell_type": "code",
   "execution_count": 20,
   "metadata": {},
   "outputs": [
    {
     "data": {
      "text/plain": [
       "['themadape', 'butt', 'allergic', 'latex', 'sneeze', 'nbpoli', 'cdnpoli']"
      ]
     },
     "execution_count": 20,
     "metadata": {},
     "output_type": "execute_result"
    }
   ],
   "source": [
    "unclassified.tweets[2]"
   ]
  },
  {
   "cell_type": "markdown",
   "metadata": {},
   "source": [
    "## 2. Exploratory analysis:\n",
    "In the First step of Exploration- tweets in unclassified set is to be classified based on the party they belong. Two methods are used for this classification purpose and pros & cons of each approach is described after classification.  "
   ]
  },
  {
   "cell_type": "markdown",
   "metadata": {},
   "source": [
    "#### Overall Logic Followed for Tweet Classification:\n",
    " - Number of tags corresponding to each party in every tweet is calculated and stored in Pandas dataframe with party name\n",
    " - Each tweet is assigned to the corresponding Party with maximum number of tags\n",
    " - If a tweet is not having any of the 5 parties political tags then it is assigned to 'None' \n",
    " - *It is identified that in many tweets number of tags between two or more parties are equal. Since if we consider them in any      one of the party, it may wrongly bias our results: Hence, they are assigned to party 'None'. This might reduce number of        tweets in each party slightly but it will give us accuarte political insights since we are classifying witout bias*"
   ]
  },
  {
   "cell_type": "markdown",
   "metadata": {},
   "source": [
    "### Method 1:\n",
    "Classification based on using all tags of political parties by using tokenized tweets in the unclassified set. "
   ]
  },
  {
   "cell_type": "code",
   "execution_count": 21,
   "metadata": {
    "collapsed": true
   },
   "outputs": [],
   "source": [
    "liberal =[]; conservative=[]; new_democratic=[]; bloc=[]; green=[];      # creating list of tags for each political party\n",
    "liberal_tags=['justin','trudeau','trudeaus','justintrudeau','liberal','liberalparty','lpc', 'realchange' ,'justnotready','ptlib']\n",
    "conservative_tags=['conservative','conservativeparty','stephenharper','stephen','harper','tory','cpc','tories','pttory']\n",
    "democratic_tags=['democratic','newdemocratic','ndp','tommulcair','muclair','mulcair','tom','thomas','ptndp','democrat','democrats','npd']\n",
    "bloc_tags=['bloc','gillesduceppe','gullies','duceppe','ptbloc','quebecois','québécois','bq','gilles']\n",
    "green_tags=['green','gp','elizabethmay','may','elizabeth','gpc','ptgreen', 'emayin']"
   ]
  },
  {
   "cell_type": "code",
   "execution_count": 22,
   "metadata": {
    "collapsed": true
   },
   "outputs": [],
   "source": [
    "def classification(tags, party):  \n",
    "    for tweet in unclassified.tweets:\n",
    "        i=0\n",
    "        for word in tweet:\n",
    "            if word in tags:\n",
    "                i=i+1           # function where Frequency of tags in each tweet is identified and stored in pandas dataframe\n",
    "            else:\n",
    "                i=i\n",
    "        party.extend([i])\n",
    "    return party"
   ]
  },
  {
   "cell_type": "code",
   "execution_count": 23,
   "metadata": {
    "collapsed": true
   },
   "outputs": [],
   "source": [
    "unclassified['liberal']= classification(liberal_tags, liberal)\n",
    "unclassified['conservative'] =  classification(conservative_tags, conservative)\n",
    "unclassified['new_democratic'] =  classification(democratic_tags, new_democratic)\n",
    "unclassified['bloc'] = classification(bloc_tags, bloc)\n",
    "unclassified['green'] = classification(green_tags, green)"
   ]
  },
  {
   "cell_type": "code",
   "execution_count": 24,
   "metadata": {
    "collapsed": true
   },
   "outputs": [],
   "source": [
    "unclassified['max_value'] = unclassified.max(axis=1)     # Dividing tweet with maximum party tags to corresponding party\n",
    "i=0                      \n",
    "while i<3026:\n",
    "    if unclassified.max_value[i] == 0:   # If a tweet is having no tags of any party then it is assigned to 'Party - None' \n",
    "        unclassified.loc[i,'party'] = 'None'\n",
    "    elif unclassified.max_value[i] == (unclassified.liberal[i] & unclassified.conservative[i]) or (unclassified.max_value[i] == unclassified.liberal[i] & unclassified.new_democratic[i]) or (unclassified.max_value[i] == unclassified.conservative[i] & unclassified.new_democratic[i]) :\n",
    "        unclassified.loc[i,'party'] = 'None' ## If same no of tags in multiple parties then it is assigned to none\n",
    "    elif unclassified.max_value[i] == unclassified.conservative[i]:\n",
    "        unclassified.loc[i,'party'] = 'cpc'\n",
    "    elif unclassified.max_value[i] == unclassified.liberal[i]:\n",
    "        unclassified.loc[i,'party'] = 'lpc'\n",
    "    elif unclassified.max_value[i] == unclassified.new_democratic[i]:\n",
    "        unclassified.loc[i,'party']=  'ndp'\n",
    "    elif unclassified.max_value[i] == unclassified.bloc[i]:\n",
    "        unclassified.loc[i,'party'] = 'bloc'\n",
    "    elif unclassified.max_value[i] == unclassified.green[i]:\n",
    "        unclassified.loc[i,'party'] = 'gpc'  \n",
    "    i=i+1                  # Tweet is classified into particular party if it having more number of tags belonging to it!!"
   ]
  },
  {
   "cell_type": "code",
   "execution_count": 25,
   "metadata": {},
   "outputs": [
    {
     "data": {
      "text/html": [
       "<div>\n",
       "<style>\n",
       "    .dataframe thead tr:only-child th {\n",
       "        text-align: right;\n",
       "    }\n",
       "\n",
       "    .dataframe thead th {\n",
       "        text-align: left;\n",
       "    }\n",
       "\n",
       "    .dataframe tbody tr th {\n",
       "        vertical-align: top;\n",
       "    }\n",
       "</style>\n",
       "<table border=\"1\" class=\"dataframe\">\n",
       "  <thead>\n",
       "    <tr style=\"text-align: right;\">\n",
       "      <th></th>\n",
       "      <th>tweets</th>\n",
       "      <th>liberal</th>\n",
       "      <th>conservative</th>\n",
       "      <th>new_democratic</th>\n",
       "      <th>bloc</th>\n",
       "      <th>green</th>\n",
       "      <th>max_value</th>\n",
       "      <th>party</th>\n",
       "    </tr>\n",
       "  </thead>\n",
       "  <tbody>\n",
       "    <tr>\n",
       "      <th>0</th>\n",
       "      <td>[living, dream, cameraman, camera, cameracepti...</td>\n",
       "      <td>0</td>\n",
       "      <td>0</td>\n",
       "      <td>1</td>\n",
       "      <td>0</td>\n",
       "      <td>0</td>\n",
       "      <td>1</td>\n",
       "      <td>ndp</td>\n",
       "    </tr>\n",
       "    <tr>\n",
       "      <th>1</th>\n",
       "      <td>[justin, trudeaus, reasons, thanksgiving, toda...</td>\n",
       "      <td>2</td>\n",
       "      <td>0</td>\n",
       "      <td>0</td>\n",
       "      <td>0</td>\n",
       "      <td>0</td>\n",
       "      <td>2</td>\n",
       "      <td>lpc</td>\n",
       "    </tr>\n",
       "    <tr>\n",
       "      <th>2</th>\n",
       "      <td>[themadape, butt, allergic, latex, sneeze, nbp...</td>\n",
       "      <td>0</td>\n",
       "      <td>0</td>\n",
       "      <td>0</td>\n",
       "      <td>0</td>\n",
       "      <td>0</td>\n",
       "      <td>0</td>\n",
       "      <td>None</td>\n",
       "    </tr>\n",
       "    <tr>\n",
       "      <th>3</th>\n",
       "      <td>[2, massive, explosions, peace, march, turkey,...</td>\n",
       "      <td>0</td>\n",
       "      <td>0</td>\n",
       "      <td>0</td>\n",
       "      <td>0</td>\n",
       "      <td>0</td>\n",
       "      <td>0</td>\n",
       "      <td>None</td>\n",
       "    </tr>\n",
       "    <tr>\n",
       "      <th>4</th>\n",
       "      <td>[mulcair, suggests, ’, bad, blood, trudeau, re...</td>\n",
       "      <td>1</td>\n",
       "      <td>0</td>\n",
       "      <td>2</td>\n",
       "      <td>0</td>\n",
       "      <td>0</td>\n",
       "      <td>2</td>\n",
       "      <td>ndp</td>\n",
       "    </tr>\n",
       "  </tbody>\n",
       "</table>\n",
       "</div>"
      ],
      "text/plain": [
       "                                              tweets  liberal  conservative  \\\n",
       "0  [living, dream, cameraman, camera, cameracepti...        0             0   \n",
       "1  [justin, trudeaus, reasons, thanksgiving, toda...        2             0   \n",
       "2  [themadape, butt, allergic, latex, sneeze, nbp...        0             0   \n",
       "3  [2, massive, explosions, peace, march, turkey,...        0             0   \n",
       "4  [mulcair, suggests, ’, bad, blood, trudeau, re...        1             0   \n",
       "\n",
       "   new_democratic  bloc  green  max_value party  \n",
       "0               1     0      0          1   ndp  \n",
       "1               0     0      0          2   lpc  \n",
       "2               0     0      0          0  None  \n",
       "3               0     0      0          0  None  \n",
       "4               2     0      0          2   ndp  "
      ]
     },
     "execution_count": 25,
     "metadata": {},
     "output_type": "execute_result"
    }
   ],
   "source": [
    "unclassified.head()"
   ]
  },
  {
   "cell_type": "code",
   "execution_count": 26,
   "metadata": {},
   "outputs": [
    {
     "data": {
      "image/png": "[encoded data removed]",
      "text/plain": [
       "<matplotlib.figure.Figure at 0x1a36ffbd908>"
      ]
     },
     "metadata": {},
     "output_type": "display_data"
    }
   ],
   "source": [
    "import seaborn as sns\n",
    "party_data = unclassified.drop(unclassified[unclassified.party =='None'].index)\n",
    "sns.countplot(x ='party', data = party_data)\n",
    "plt.show()"
   ]
  },
  {
   "cell_type": "code",
   "execution_count": 27,
   "metadata": {},
   "outputs": [
    {
     "data": {
      "text/plain": [
       "None    1799\n",
       "lpc      531\n",
       "cpc      393\n",
       "ndp      288\n",
       "gpc       13\n",
       "bloc       2\n",
       "Name: party, dtype: int64"
      ]
     },
     "execution_count": 27,
     "metadata": {},
     "output_type": "execute_result"
    }
   ],
   "source": [
    "unclassified['party'].value_counts()        c"
   ]
  },
  {
   "cell_type": "markdown",
   "metadata": {
    "collapsed": true
   },
   "source": [
    "#### Method 1: Pros  & Cons:\n",
    "Although we are able to classify good number of tweets into each party, When closely checked into unclassified set - it is identified that there can be large number of tags that can be unidentified by us like - #teamtrudeau, #supportliberal etc..\n",
    "Since listing out all possible tags individually for each of the party is a difficult task, I am using method 2 which searches for most general tags belonging to each party in the tweets (tweets are converted back from tokens to strings for this purpose)"
   ]
  },
  {
   "cell_type": "code",
   "execution_count": 28,
   "metadata": {
    "collapsed": true
   },
   "outputs": [],
   "source": [
    "from nltk.tokenize.moses import MosesDetokenizer          # Detokenizing the tweets back to string using Mosesdetokenizer\n",
    "detokenizer = MosesDetokenizer()\n",
    "unclassified.tweets = unclassified.tweets.apply(lambda x: detokenizer.detokenize(x, return_str=True))"
   ]
  },
  {
   "cell_type": "markdown",
   "metadata": {},
   "source": [
    "### Tags used for method 2:   Alternate Logic to avoid missing of tweets       <font color=blue>   |||Bonus|||\n",
    "Since we are searching for tags in string instead of individual tokens- We require only few tags here because identifying justin or trudeau is similar to identifying teamtrudeau or teamjustin etc... This helps us from losing tweets that can be unidentified by using the previous approach. (If we miss any tags)"
   ]
  },
  {
   "cell_type": "code",
   "execution_count": 29,
   "metadata": {
    "collapsed": true
   },
   "outputs": [],
   "source": [
    "unclassified = unclassified.drop(unclassified.columns[[1, 2, 3, 4, 5, 6, 7]], axis=1) "
   ]
  },
  {
   "cell_type": "code",
   "execution_count": 30,
   "metadata": {
    "collapsed": true
   },
   "outputs": [],
   "source": [
    "liberal2 =[]; conservative2=[]; new_democratic2=[]; bloc2=[]; green2=[]; \n",
    "liberal_tags=['justin','trudeau','liberal','lpc', 'realchange' ,'justnotready','ptlib']\n",
    "conservative_tags=['conservative','stephen','harper','tories','cpc']\n",
    "democratic_tags=['ndp','muclair','mulcair','tom','thomas','ptndp','democrat','npd']\n",
    "bloc_tags=['bloc','gullies','duceppe','ptbloc','quebecois','québécois','bq','gilles']\n",
    "green_tags=['green','gp','may','elizabeth', 'emayin']"
   ]
  },
  {
   "cell_type": "code",
   "execution_count": 31,
   "metadata": {
    "collapsed": true
   },
   "outputs": [],
   "source": [
    "def tweet_classification(tags, party):\n",
    "    for tweet in unclassified.tweets:\n",
    "        k=0                      # function where Frequency of tags in each tweet is identified and stored in pandas dataframe\n",
    "        for j in range(len(tags)):\n",
    "            k = k+tweet.count(tags[j])\n",
    "        party.extend([k])\n",
    "    return party                "
   ]
  },
  {
   "cell_type": "code",
   "execution_count": 32,
   "metadata": {
    "collapsed": true
   },
   "outputs": [],
   "source": [
    "unclassified['liberal']= tweet_classification(liberal_tags, liberal2)\n",
    "unclassified['conservative'] =  tweet_classification(conservative_tags, conservative2)\n",
    "unclassified['new_democratic'] =  tweet_classification(democratic_tags, new_democratic2)\n",
    "unclassified['bloc'] = tweet_classification(bloc_tags, bloc2)\n",
    "unclassified['green'] = tweet_classification(green_tags, green2)"
   ]
  },
  {
   "cell_type": "code",
   "execution_count": 33,
   "metadata": {
    "collapsed": true
   },
   "outputs": [],
   "source": [
    "unclassified['max_value'] = unclassified.max(axis=1)     \n",
    "i=0                      \n",
    "while i<3026:\n",
    "    if unclassified.max_value[i] == 0:   # If a tweet is having no tags of any party then it is assigned to 'Party - None' \n",
    "        unclassified.loc[i,'party'] = 'None'\n",
    "    elif unclassified.max_value[i] == (unclassified.liberal[i] & unclassified.conservative[i]) or (unclassified.max_value[i] == unclassified.liberal[i] & unclassified.new_democratic[i]) or (unclassified.max_value[i] == unclassified.conservative[i] & unclassified.new_democratic[i]) :\n",
    "        unclassified.loc[i,'party'] = 'None'\n",
    "    elif unclassified.max_value[i] == unclassified.liberal[i]:\n",
    "        unclassified.loc[i,'party'] = 'lpc'\n",
    "    elif unclassified.max_value[i] == unclassified.conservative[i]:\n",
    "        unclassified.loc[i,'party'] = 'cpc'\n",
    "    elif unclassified.max_value[i] == unclassified.new_democratic[i]:\n",
    "        unclassified.loc[i,'party']=  'ndp'\n",
    "    elif unclassified.max_value[i] == unclassified.bloc[i]:\n",
    "        unclassified.loc[i,'party'] = 'bloc'\n",
    "    elif unclassified.max_value[i] == unclassified.green[i]:\n",
    "        unclassified.loc[i,'party'] = 'gpc'  \n",
    "    i=i+1                  # Tweet is classified into particular party if it having more number of tags belonging to it!!"
   ]
  },
  {
   "cell_type": "code",
   "execution_count": 34,
   "metadata": {},
   "outputs": [
    {
     "data": {
      "text/html": [
       "<div>\n",
       "<style>\n",
       "    .dataframe thead tr:only-child th {\n",
       "        text-align: right;\n",
       "    }\n",
       "\n",
       "    .dataframe thead th {\n",
       "        text-align: left;\n",
       "    }\n",
       "\n",
       "    .dataframe tbody tr th {\n",
       "        vertical-align: top;\n",
       "    }\n",
       "</style>\n",
       "<table border=\"1\" class=\"dataframe\">\n",
       "  <thead>\n",
       "    <tr style=\"text-align: right;\">\n",
       "      <th></th>\n",
       "      <th>tweets</th>\n",
       "      <th>liberal</th>\n",
       "      <th>conservative</th>\n",
       "      <th>new_democratic</th>\n",
       "      <th>bloc</th>\n",
       "      <th>green</th>\n",
       "      <th>max_value</th>\n",
       "      <th>party</th>\n",
       "    </tr>\n",
       "  </thead>\n",
       "  <tbody>\n",
       "    <tr>\n",
       "      <th>0</th>\n",
       "      <td>living dream cameraman camera cameraception ca...</td>\n",
       "      <td>0</td>\n",
       "      <td>0</td>\n",
       "      <td>2</td>\n",
       "      <td>0</td>\n",
       "      <td>0</td>\n",
       "      <td>2</td>\n",
       "      <td>ndp</td>\n",
       "    </tr>\n",
       "    <tr>\n",
       "      <th>1</th>\n",
       "      <td>justin trudeaus reasons thanksgiving todays mo...</td>\n",
       "      <td>2</td>\n",
       "      <td>0</td>\n",
       "      <td>0</td>\n",
       "      <td>0</td>\n",
       "      <td>0</td>\n",
       "      <td>2</td>\n",
       "      <td>lpc</td>\n",
       "    </tr>\n",
       "    <tr>\n",
       "      <th>2</th>\n",
       "      <td>themadape butt allergic latex sneeze nbpoli cd...</td>\n",
       "      <td>0</td>\n",
       "      <td>0</td>\n",
       "      <td>0</td>\n",
       "      <td>0</td>\n",
       "      <td>0</td>\n",
       "      <td>0</td>\n",
       "      <td>None</td>\n",
       "    </tr>\n",
       "    <tr>\n",
       "      <th>3</th>\n",
       "      <td>2 massive explosions peace march turkey 30 kil...</td>\n",
       "      <td>0</td>\n",
       "      <td>0</td>\n",
       "      <td>0</td>\n",
       "      <td>0</td>\n",
       "      <td>0</td>\n",
       "      <td>0</td>\n",
       "      <td>None</td>\n",
       "    </tr>\n",
       "    <tr>\n",
       "      <th>4</th>\n",
       "      <td>mulcair suggests ’ bad blood trudeau ready4cha...</td>\n",
       "      <td>1</td>\n",
       "      <td>0</td>\n",
       "      <td>2</td>\n",
       "      <td>0</td>\n",
       "      <td>0</td>\n",
       "      <td>2</td>\n",
       "      <td>ndp</td>\n",
       "    </tr>\n",
       "  </tbody>\n",
       "</table>\n",
       "</div>"
      ],
      "text/plain": [
       "                                              tweets  liberal  conservative  \\\n",
       "0  living dream cameraman camera cameraception ca...        0             0   \n",
       "1  justin trudeaus reasons thanksgiving todays mo...        2             0   \n",
       "2  themadape butt allergic latex sneeze nbpoli cd...        0             0   \n",
       "3  2 massive explosions peace march turkey 30 kil...        0             0   \n",
       "4  mulcair suggests ’ bad blood trudeau ready4cha...        1             0   \n",
       "\n",
       "   new_democratic  bloc  green  max_value party  \n",
       "0               2     0      0          2   ndp  \n",
       "1               0     0      0          2   lpc  \n",
       "2               0     0      0          0  None  \n",
       "3               0     0      0          0  None  \n",
       "4               2     0      0          2   ndp  "
      ]
     },
     "execution_count": 34,
     "metadata": {},
     "output_type": "execute_result"
    }
   ],
   "source": [
    "unclassified.head()                           # Method 2 : result after Searching for tags in strings"
   ]
  },
  {
   "cell_type": "code",
   "execution_count": 35,
   "metadata": {},
   "outputs": [
    {
     "data": {
      "image/png": "[encoded data removed]",
      "text/plain": [
       "<matplotlib.figure.Figure at 0x1a36ff801d0>"
      ]
     },
     "metadata": {},
     "output_type": "display_data"
    }
   ],
   "source": [
    "party_data = unclassified.drop(unclassified[unclassified.party =='None'].index)\n",
    "sns.countplot(x ='party', data = party_data); plt.show();"
   ]
  },
  {
   "cell_type": "code",
   "execution_count": 36,
   "metadata": {},
   "outputs": [
    {
     "data": {
      "text/plain": [
       "None    1644\n",
       "lpc      544\n",
       "cpc      480\n",
       "ndp      323\n",
       "gpc       28\n",
       "bloc       7\n",
       "Name: party, dtype: int64"
      ]
     },
     "execution_count": 36,
     "metadata": {},
     "output_type": "execute_result"
    }
   ],
   "source": [
    "unclassified['party'].value_counts()                              # Count of Tweets in each Party"
   ]
  },
  {
   "cell_type": "markdown",
   "metadata": {},
   "source": [
    "#### Method 2: Pros  & Cons:\n",
    "When checked for program executon time method 2 is taking slightly more time when compared to method 1. But we have significant increase in number of tweets identified by method 2 - Therefore, I finalized this method for tweet classification and this data is used in final analysis to draw political insights of different political parties. "
   ]
  },
  {
   "cell_type": "markdown",
   "metadata": {},
   "source": [
    "<font color=blue>   |||Bonus|||"
   ]
  },
  {
   "cell_type": "code",
   "execution_count": 37,
   "metadata": {},
   "outputs": [
    {
     "data": {
      "image/png": "[encoded data removed]",
      "text/plain": [
       "<matplotlib.figure.Figure at 0x1a304ca9f60>"
      ]
     },
     "metadata": {},
     "output_type": "display_data"
    }
   ],
   "source": [
    "lpc=unclassified[unclassified.party == 'lpc']; ndp=unclassified[unclassified.party == 'ndp']; cpc=unclassified[unclassified.party == 'cpc'];bloc=unclassified[unclassified.party == 'bloc'];green=unclassified[unclassified.party == 'gpc']\n",
    "party_titles = ['Liberal', 'Conservative', 'NDP', 'Bloc', 'Green']\n",
    "y = [len(lpc.index),len(cpc.index),len(ndp.index),len(bloc.index),len(green.index)]\n",
    "piechart = plt.pie(y,  labels = party_titles, autopct = '%1.1f%%', explode = (0, 0, 0, 0.2, 0.5))\n",
    "plt.title('Political Party Tweets Percentage - 2015 Canadian Elections', fontsize = 18, fontweight = 'bold')\n",
    "plt.axis('equal')\n",
    "plt.show()"
   ]
  },
  {
   "cell_type": "markdown",
   "metadata": {
    "collapsed": true
   },
   "source": [
    "Above pie chart clearly mentions that among all parties there is more liberal buzz followed by Conservative and NDP parties in twitter. Bloc and green parties together have a share of 2.5 percentage which is significant enough difference to say that they are not in lead competition. Liberals and Conservatives buzz is very close in the twitter with both of them contributing to 75% of total tweets. \n",
    "\n",
    "From the Exploratry analysis of twitter data it is clear that Major political fight is between liberals and Conservatives. Doing sentimental analysis for these tweets can further reveal about the peoples stand in Twitter for these parties."
   ]
  },
  {
   "cell_type": "markdown",
   "metadata": {},
   "source": [
    "### Graphical Represenation of Classified sets: (Number of positive neagative tweets)\n",
    "\n",
    "Below plot clearly shows that there are equal number (100,000 each) of Positive and Negative Tweets in the Classified datasets. This might help in building model in a better way since we have equal categories of data."
   ]
  },
  {
   "cell_type": "code",
   "execution_count": 38,
   "metadata": {},
   "outputs": [
    {
     "data": {
      "image/png": "[encoded data removed]",
      "text/plain": [
       "<matplotlib.figure.Figure at 0x1a304cb4940>"
      ]
     },
     "metadata": {},
     "output_type": "display_data"
    }
   ],
   "source": [
    "sns.countplot(x='class', data=classified); plt.show();"
   ]
  },
  {
   "cell_type": "markdown",
   "metadata": {},
   "source": [
    "## 3. Model preparation:\n",
    "Predictive modeling (Classification type) is used to categorize the tweets into either positive or negative. \n",
    " - ALthough we have many classification models like Naive Bayesian, Logistic Regression , decision trees, KNN classification, SVM, Artificial Neural networks etc., \n",
    " - 3 Models (Logistic Regression, Naive Bayesian and Random Forest) are used for classification of tweets and their accuracies and runtime are compared. It is also found that SVM and KNN are taking very large runtimes when tried and hence they are not included in this notebook."
   ]
  },
  {
   "cell_type": "markdown",
   "metadata": {},
   "source": [
    "#### Training and Testing Splits:\n",
    "If the whole classified data is used for training the model it might cause overfitting of the given data and hence model accuracy  predicted from that will not be true. Therefore, classified_tweets are initially divided into training and testing sets so that testing set which is not used for training the model is used for finding the right accuracy of model.\n",
    "train_test_split from sklearn.model_selection is used for randomly splitting data to 30% testing and 70% training sets."
   ]
  },
  {
   "cell_type": "code",
   "execution_count": 39,
   "metadata": {
    "collapsed": true
   },
   "outputs": [],
   "source": [
    "from sklearn.model_selection import train_test_split\n",
    "X_train, X_test, y_train, y_test = train_test_split(classified['text'], classified['class'], test_size =0.3)"
   ]
  },
  {
   "cell_type": "code",
   "execution_count": 40,
   "metadata": {
    "collapsed": true
   },
   "outputs": [],
   "source": [
    "X_train = pd.DataFrame(X_train)\n",
    "X_test = pd.DataFrame(X_test)"
   ]
  },
  {
   "cell_type": "markdown",
   "metadata": {},
   "source": [
    "#### Data Preparation for Implementing Model:\n",
    "Since we have all the textual data (tweets), We need to convert them to some kind of numeric representation for machine learning. In our case each word or count of each word in the tweets is selected as independent variables or features of the model. This approach is called as Bag of Words. countVectorizer in feature_extraction module from scikit-learn is used to create bag-of-words features."
   ]
  },
  {
   "cell_type": "code",
   "execution_count": 41,
   "metadata": {
    "collapsed": true
   },
   "outputs": [],
   "source": [
    "from sklearn.feature_extraction.text import CountVectorizer\n",
    "count_vect = CountVectorizer()"
   ]
  },
  {
   "cell_type": "markdown",
   "metadata": {},
   "source": [
    "To convert the Dataframe into list with string items in it we use, astype(str).values.tolist();\n",
    "This casts the column dtype using astype(str) and then convert to list using .values.tolist(), this returns a numpy array using .values which has a member function to convert this to a list."
   ]
  },
  {
   "cell_type": "code",
   "execution_count": 42,
   "metadata": {
    "collapsed": true
   },
   "outputs": [],
   "source": [
    "X_train = X_train['text'].astype(str).values.tolist()\n",
    "X_test = X_test['text'].astype(str).values.tolist()"
   ]
  },
  {
   "cell_type": "markdown",
   "metadata": {},
   "source": [
    "Count_Vectorizer function is used to convert X_train and X_test textual data to numerical format by counting the frequency of words in each tweet. First X_train is fitted by Count_vectorizer to create a sparse matrix containing all the words in the training data. Then this fitted sparse matrix is further used to transform the X_test to numerical count data"
   ]
  },
  {
   "cell_type": "code",
   "execution_count": 43,
   "metadata": {
    "collapsed": true
   },
   "outputs": [],
   "source": [
    "z = count_vect.fit_transform(X_train)"
   ]
  },
  {
   "cell_type": "code",
   "execution_count": 44,
   "metadata": {
    "collapsed": true
   },
   "outputs": [],
   "source": [
    "w = count_vect.transform(X_test)"
   ]
  },
  {
   "cell_type": "markdown",
   "metadata": {},
   "source": [
    "## 4. Model implementation:\n",
    "### 4.1 Logistic Regression:\n",
    "Logistic regression predicts the probability of an tweet to be either in positive(4) or negative(0) class. LogisticRegression function from sklearn.linear_model is used for this purpose. After training the model with logistic regression, Models accuracy evaulation is performod using various methods."
   ]
  },
  {
   "cell_type": "code",
   "execution_count": 45,
   "metadata": {
    "collapsed": true
   },
   "outputs": [],
   "source": [
    "from sklearn.linear_model import LogisticRegression      # Importing Logistic Regression Function\n",
    "from sklearn import metrics"
   ]
  },
  {
   "cell_type": "code",
   "execution_count": 46,
   "metadata": {},
   "outputs": [
    {
     "data": {
      "text/plain": [
       "0.09282586574554444"
      ]
     },
     "execution_count": 46,
     "metadata": {},
     "output_type": "execute_result"
    }
   ],
   "source": [
    "start = time.time()              # Time function used to evaluate the execution run time for training logistic model\n",
    "\n",
    "logreg =  LogisticRegression()\n",
    "logreg.fit(z, y_train.values.ravel())\n",
    "logreg.score(z,y_train.values.ravel())\n",
    "y_pred_class = logreg.predict(w)\n",
    "\n",
    "end = time.time()\n",
    "logreg_time = (end - start)/60    # Time converted to Minutes\n",
    "logreg_time"
   ]
  },
  {
   "cell_type": "code",
   "execution_count": 47,
   "metadata": {},
   "outputs": [
    {
     "data": {
      "text/plain": [
       "73.879999999999995"
      ]
     },
     "execution_count": 47,
     "metadata": {},
     "output_type": "execute_result"
    }
   ],
   "source": [
    "logreg_accuracy = logreg.score(w, y_test)*100    # Accuracy of the Logistic Regression Model on the test set\n",
    "logreg_accuracy"
   ]
  },
  {
   "cell_type": "markdown",
   "metadata": {},
   "source": [
    "## Model evaluation:\n",
    "### K fold Crossvalidation:      <font color=blue>   |||Bonus|||\n",
    "If we are using Training and testing sets individually then all of the data cannot be used for training the model. (since we divide training and testing sets randomly so we might be constraing to train the model based on the train set that we randomly selected). Using K fold cross validation can solve this problem. The data set is divided into k subsets, and it is trained k times where in each case one among K sets is used for testing the model to predict accuracy. Final accuracy is calculated by taking the mean of accuracies obtained in all these K steps. To check our Model perfomance accuratley I used K fold cross validation as mentioned below. "
   ]
  },
  {
   "cell_type": "code",
   "execution_count": 58,
   "metadata": {},
   "outputs": [
    {
     "data": {
      "text/plain": [
       "73.258499999999998"
      ]
     },
     "execution_count": 58,
     "metadata": {},
     "output_type": "execute_result"
    }
   ],
   "source": [
    "from sklearn.cross_validation import cross_val_score      # Importing Cross Validation from sklearn\n",
    "X =classified['text'].astype(str).values.tolist()\n",
    "X = count_vect.transform(X)\n",
    "y = classified['class']\n",
    "Log_reg_cross_val = (cross_val_score(logreg, X, y, cv=10, scoring='accuracy').mean())\n",
    "Log_reg_cross_val*100                                      # Finding the mean accuracy of 10 cases"
   ]
  },
  {
   "cell_type": "markdown",
   "metadata": {},
   "source": [
    "### Cheking Model Perfomance by using TfidfVectorizer for featrues:        <font color=blue>   |||Bonus|||\n",
    "Countvectorizer gives equal weightage to all the words in all the tweets, i.e. a word is converted to a column (in a dataframe for example) and for each tweet, it is equal to 1 if it is present in that tweet else 0. \n",
    "Tfidf is different from countvectorizer. Apart from giving counts information, tfidf says how important that word is to that tweet with respect to the corpus. It uses weighting technique which helps ML model during classification as it explicitly tells which word weighs more/less.\n",
    "So the perfomance of Logistic Regression Model is checked using TfidfVectorizer."
   ]
  },
  {
   "cell_type": "code",
   "execution_count": 59,
   "metadata": {},
   "outputs": [
    {
     "name": "stdout",
     "output_type": "stream",
     "text": [
      "74.05\n"
     ]
    }
   ],
   "source": [
    "from sklearn.feature_extraction.text import TfidfVectorizer   # Importing TfidfVectorizer\n",
    "Tfid_vect = TfidfVectorizer(min_df=1)\n",
    "\n",
    "X =classified['text'].astype(str).values.tolist()            # Fitting or transforming text data to Tfidf Vectorizer\n",
    "X = Tfid_vect.fit_transform(X)\n",
    "y = classified['class']\n",
    "\n",
    "Log_reg_Tfid_cross_val = (cross_val_score(logreg, X, y, cv=10, scoring='accuracy').mean())\n",
    "print(Log_reg_Tfid_cross_val*100)                         \n",
    "                                                            # Using Cross Validation and finding mean accuracy"
   ]
  },
  {
   "cell_type": "markdown",
   "metadata": {},
   "source": [
    "From above it is clear that using TfidfVectorizer and Count_Vectorizer there is no significant difference in the accuracy obtained by doing cross validation. Hence Count_Vectorizer is used for prediction of unclassified tweets since it is computaionally much faster."
   ]
  },
  {
   "cell_type": "code",
   "execution_count": 60,
   "metadata": {},
   "outputs": [
    {
     "name": "stdout",
     "output_type": "stream",
     "text": [
      "True: [0 0 0 4 0 0 4 0 0 0 4 0 4 0 0 4 4 0 4 4 0 4 0 0 4]\n",
      "False: [0 4 0 4 4 4 4 0 4 0 4 0 4 4 0 4 4 4 4 4 0 4 0 0 4]\n"
     ]
    }
   ],
   "source": [
    "## Printing first 25 original and predicted classes for the tweets\n",
    "print('True:', y_test.values[0:25])\n",
    "print('False:', y_pred_class[0:25])"
   ]
  },
  {
   "cell_type": "markdown",
   "metadata": {},
   "source": [
    "### Confusion Matrix Analysis:      <font color=blue>   |||Bonus|||\n",
    "Confusion matrix gives you a more complete picture of how your classifier is performing. Since from the below calculations it is clear that sensitivity and specificity are greater that 70% it clearly implies that our classifier is correctly predicting in more than 70% of the both actual positive and Negative cases."
   ]
  },
  {
   "cell_type": "code",
   "execution_count": 61,
   "metadata": {},
   "outputs": [
    {
     "name": "stdout",
     "output_type": "stream",
     "text": [
      "[[21404  8716]\n",
      " [ 6956 22924]]\n"
     ]
    }
   ],
   "source": [
    "confusion = metrics.confusion_matrix(y_test, y_pred_class)\n",
    "print(confusion)\n",
    "TP = confusion[1, 1]\n",
    "TN = confusion[0, 0]\n",
    "FP = confusion[0, 1]\n",
    "FN = confusion[1, 0]"
   ]
  },
  {
   "cell_type": "code",
   "execution_count": 62,
   "metadata": {},
   "outputs": [
    {
     "name": "stdout",
     "output_type": "stream",
     "text": [
      "76.7202141901\n"
     ]
    }
   ],
   "source": [
    "sensitivity = TP / float(FN + TP)\n",
    "print(sensitivity*100)"
   ]
  },
  {
   "cell_type": "code",
   "execution_count": 63,
   "metadata": {},
   "outputs": [
    {
     "name": "stdout",
     "output_type": "stream",
     "text": [
      "71.0624169987\n"
     ]
    }
   ],
   "source": [
    "specificity = TN / (TN + FP)\n",
    "print(specificity*100)"
   ]
  },
  {
   "cell_type": "markdown",
   "metadata": {},
   "source": [
    "### Plotting ROC Curve for the Logreg Model:      <font color=blue>   |||Bonus|||"
   ]
  },
  {
   "cell_type": "code",
   "execution_count": 64,
   "metadata": {
    "collapsed": true
   },
   "outputs": [],
   "source": [
    "y_pred_prob = logreg.predict_proba(w)[:, 1]\n",
    "a=np.array(y_test); a[a == 4] = 1;"
   ]
  },
  {
   "cell_type": "code",
   "execution_count": 65,
   "metadata": {
    "collapsed": true
   },
   "outputs": [],
   "source": [
    "from sklearn.metrics import roc_curve\n",
    "fpr, tpr, thresholds = metrics.roc_curve(a, np.array(y_pred_prob))"
   ]
  },
  {
   "cell_type": "code",
   "execution_count": 66,
   "metadata": {},
   "outputs": [
    {
     "data": {
      "image/png": "[encoded data removed]",
      "text/plain": [
       "<matplotlib.figure.Figure at 0x1a303ba6978>"
      ]
     },
     "metadata": {},
     "output_type": "display_data"
    }
   ],
   "source": [
    "plt.plot(fpr, tpr, label='Logistic Regression')\n",
    "plt.xlim([0.0, 1.0])\n",
    "plt.ylim([0.0, 1.0])\n",
    "plt.rcParams['font.size'] = 12\n",
    "plt.title('ROC curve')\n",
    "plt.xlabel('False Positive Rate (1 - Specificity)')\n",
    "plt.ylabel('True Positive Rate (Sensitivity)')\n",
    "plt.grid(True)\n",
    "plt.show()"
   ]
  },
  {
   "cell_type": "markdown",
   "metadata": {},
   "source": [
    "ROC curve can help us to choose a threshold that balances sensitivity and specificity in a way that makes sense for our Analysis. Since we are analysizing positive and negative tweets Threshold value of .5 is good for our case.\n"
   ]
  },
  {
   "cell_type": "markdown",
   "metadata": {},
   "source": [
    "### Evaluating Logreg Model Without Stopwords:      <font color=blue>   |||Bonus|||"
   ]
  },
  {
   "cell_type": "code",
   "execution_count": 70,
   "metadata": {},
   "outputs": [
    {
     "name": "stdout",
     "output_type": "stream",
     "text": [
      "74.05\n"
     ]
    }
   ],
   "source": [
    "X_nostop = classified_withstopwords['text'].astype(str).values.tolist()\n",
    "from sklearn.feature_extraction.text import TfidfVectorizer\n",
    "Tfid_vect = TfidfVectorizer(min_df=1)\n",
    "\n",
    "X = Tfid_vect.fit_transform(X_nostop)              # X_nostop is Tweet data before removing stop words\n",
    "y = classified['class']\n",
    "\n",
    "Log_reg_Tfid_cross_val = (cross_val_score(logreg, X, y, cv=10, scoring='accuracy').mean())\n",
    "print(Log_reg_Tfid_cross_val*100)                  # Using Cross Validation and finding mean accuracy\n"
   ]
  },
  {
   "cell_type": "markdown",
   "metadata": {},
   "source": [
    "We can see that there is slight improvement in accuracy if we perform Logistic Regression with the stopwords. This might say that removing large number of stopwords might have an impact on evaluvating positivity and negativity of tweets. Or we can say the list we used to remove stopwords might have excess words that impacts word sensitivity and hence the shorter version of it might be used."
   ]
  },
  {
   "cell_type": "markdown",
   "metadata": {
    "collapsed": true
   },
   "source": [
    "### Evaluating the unclassified data with the Logreg model :"
   ]
  },
  {
   "cell_type": "code",
   "execution_count": 71,
   "metadata": {
    "collapsed": true
   },
   "outputs": [],
   "source": [
    "v = count_vect.transform(unclassified['tweets'])"
   ]
  },
  {
   "cell_type": "code",
   "execution_count": 72,
   "metadata": {
    "collapsed": true
   },
   "outputs": [],
   "source": [
    "unclassified['class'] = logreg.predict(v)"
   ]
  },
  {
   "cell_type": "code",
   "execution_count": 73,
   "metadata": {},
   "outputs": [
    {
     "data": {
      "text/html": [
       "<div>\n",
       "<style>\n",
       "    .dataframe thead tr:only-child th {\n",
       "        text-align: right;\n",
       "    }\n",
       "\n",
       "    .dataframe thead th {\n",
       "        text-align: left;\n",
       "    }\n",
       "\n",
       "    .dataframe tbody tr th {\n",
       "        vertical-align: top;\n",
       "    }\n",
       "</style>\n",
       "<table border=\"1\" class=\"dataframe\">\n",
       "  <thead>\n",
       "    <tr style=\"text-align: right;\">\n",
       "      <th></th>\n",
       "      <th>tweets</th>\n",
       "      <th>liberal</th>\n",
       "      <th>conservative</th>\n",
       "      <th>new_democratic</th>\n",
       "      <th>bloc</th>\n",
       "      <th>green</th>\n",
       "      <th>max_value</th>\n",
       "      <th>party</th>\n",
       "      <th>class</th>\n",
       "    </tr>\n",
       "  </thead>\n",
       "  <tbody>\n",
       "    <tr>\n",
       "      <th>0</th>\n",
       "      <td>living dream cameraman camera cameraception ca...</td>\n",
       "      <td>0</td>\n",
       "      <td>0</td>\n",
       "      <td>2</td>\n",
       "      <td>0</td>\n",
       "      <td>0</td>\n",
       "      <td>2</td>\n",
       "      <td>ndp</td>\n",
       "      <td>0</td>\n",
       "    </tr>\n",
       "    <tr>\n",
       "      <th>1</th>\n",
       "      <td>justin trudeaus reasons thanksgiving todays mo...</td>\n",
       "      <td>2</td>\n",
       "      <td>0</td>\n",
       "      <td>0</td>\n",
       "      <td>0</td>\n",
       "      <td>0</td>\n",
       "      <td>2</td>\n",
       "      <td>lpc</td>\n",
       "      <td>4</td>\n",
       "    </tr>\n",
       "    <tr>\n",
       "      <th>2</th>\n",
       "      <td>themadape butt allergic latex sneeze nbpoli cd...</td>\n",
       "      <td>0</td>\n",
       "      <td>0</td>\n",
       "      <td>0</td>\n",
       "      <td>0</td>\n",
       "      <td>0</td>\n",
       "      <td>0</td>\n",
       "      <td>None</td>\n",
       "      <td>0</td>\n",
       "    </tr>\n",
       "    <tr>\n",
       "      <th>3</th>\n",
       "      <td>2 massive explosions peace march turkey 30 kil...</td>\n",
       "      <td>0</td>\n",
       "      <td>0</td>\n",
       "      <td>0</td>\n",
       "      <td>0</td>\n",
       "      <td>0</td>\n",
       "      <td>0</td>\n",
       "      <td>None</td>\n",
       "      <td>0</td>\n",
       "    </tr>\n",
       "    <tr>\n",
       "      <th>4</th>\n",
       "      <td>mulcair suggests ’ bad blood trudeau ready4cha...</td>\n",
       "      <td>1</td>\n",
       "      <td>0</td>\n",
       "      <td>2</td>\n",
       "      <td>0</td>\n",
       "      <td>0</td>\n",
       "      <td>2</td>\n",
       "      <td>ndp</td>\n",
       "      <td>0</td>\n",
       "    </tr>\n",
       "    <tr>\n",
       "      <th>5</th>\n",
       "      <td>polqc se sort de la marde avec harper prêt à r...</td>\n",
       "      <td>1</td>\n",
       "      <td>1</td>\n",
       "      <td>0</td>\n",
       "      <td>0</td>\n",
       "      <td>0</td>\n",
       "      <td>1</td>\n",
       "      <td>None</td>\n",
       "      <td>4</td>\n",
       "    </tr>\n",
       "    <tr>\n",
       "      <th>6</th>\n",
       "      <td>harper 8m help countries wing govts elected cd...</td>\n",
       "      <td>0</td>\n",
       "      <td>1</td>\n",
       "      <td>0</td>\n",
       "      <td>0</td>\n",
       "      <td>0</td>\n",
       "      <td>1</td>\n",
       "      <td>cpc</td>\n",
       "      <td>4</td>\n",
       "    </tr>\n",
       "    <tr>\n",
       "      <th>7</th>\n",
       "      <td>tommy taylor</td>\n",
       "      <td>0</td>\n",
       "      <td>0</td>\n",
       "      <td>1</td>\n",
       "      <td>0</td>\n",
       "      <td>0</td>\n",
       "      <td>1</td>\n",
       "      <td>ndp</td>\n",
       "      <td>4</td>\n",
       "    </tr>\n",
       "    <tr>\n",
       "      <th>8</th>\n",
       "      <td>justintrudeau thomasmulcair</td>\n",
       "      <td>2</td>\n",
       "      <td>0</td>\n",
       "      <td>2</td>\n",
       "      <td>0</td>\n",
       "      <td>0</td>\n",
       "      <td>2</td>\n",
       "      <td>None</td>\n",
       "      <td>4</td>\n",
       "    </tr>\n",
       "    <tr>\n",
       "      <th>9</th>\n",
       "      <td>tracy retweeted tsec</td>\n",
       "      <td>0</td>\n",
       "      <td>0</td>\n",
       "      <td>0</td>\n",
       "      <td>0</td>\n",
       "      <td>0</td>\n",
       "      <td>0</td>\n",
       "      <td>None</td>\n",
       "      <td>4</td>\n",
       "    </tr>\n",
       "  </tbody>\n",
       "</table>\n",
       "</div>"
      ],
      "text/plain": [
       "                                              tweets  liberal  conservative  \\\n",
       "0  living dream cameraman camera cameraception ca...        0             0   \n",
       "1  justin trudeaus reasons thanksgiving todays mo...        2             0   \n",
       "2  themadape butt allergic latex sneeze nbpoli cd...        0             0   \n",
       "3  2 massive explosions peace march turkey 30 kil...        0             0   \n",
       "4  mulcair suggests ’ bad blood trudeau ready4cha...        1             0   \n",
       "5  polqc se sort de la marde avec harper prêt à r...        1             1   \n",
       "6  harper 8m help countries wing govts elected cd...        0             1   \n",
       "7                                       tommy taylor        0             0   \n",
       "8                        justintrudeau thomasmulcair        2             0   \n",
       "9                               tracy retweeted tsec        0             0   \n",
       "\n",
       "   new_democratic  bloc  green  max_value party  class  \n",
       "0               2     0      0          2   ndp      0  \n",
       "1               0     0      0          2   lpc      4  \n",
       "2               0     0      0          0  None      0  \n",
       "3               0     0      0          0  None      0  \n",
       "4               2     0      0          2   ndp      0  \n",
       "5               0     0      0          1  None      4  \n",
       "6               0     0      0          1   cpc      4  \n",
       "7               1     0      0          1   ndp      4  \n",
       "8               2     0      0          2  None      4  \n",
       "9               0     0      0          0  None      4  "
      ]
     },
     "execution_count": 73,
     "metadata": {},
     "output_type": "execute_result"
    }
   ],
   "source": [
    "unclassified.head(10)"
   ]
  },
  {
   "cell_type": "code",
   "execution_count": 74,
   "metadata": {},
   "outputs": [
    {
     "data": {
      "text/plain": [
       "4    2200\n",
       "0     826\n",
       "Name: class, dtype: int64"
      ]
     },
     "execution_count": 74,
     "metadata": {},
     "output_type": "execute_result"
    }
   ],
   "source": [
    "unclassified['class'].value_counts()     # To check the number of positive and negative tweets Predicted in unclassified dataset"
   ]
  },
  {
   "cell_type": "markdown",
   "metadata": {},
   "source": [
    "### Using Random Forest Classifier:    <font color=blue>   |||Bonus|||\n",
    "Random Forest uses many tree-based classifiers to make predictions, hence the \"forest\". Below, we set the number of trees to 100 as a reasonable default value. More trees may (or may not) perform better, but will certainly take longer to run."
   ]
  },
  {
   "cell_type": "code",
   "execution_count": 76,
   "metadata": {
    "collapsed": true
   },
   "outputs": [],
   "source": [
    "from sklearn.ensemble import RandomForestClassifier"
   ]
  },
  {
   "cell_type": "code",
   "execution_count": 77,
   "metadata": {},
   "outputs": [
    {
     "data": {
      "text/plain": [
       "16.07763954401016"
      ]
     },
     "execution_count": 77,
     "metadata": {},
     "output_type": "execute_result"
    }
   ],
   "source": [
    "start_forest = time.time()\n",
    "\n",
    "forest = RandomForestClassifier(n_estimators = 20) \n",
    "forest.fit(z, y_train)\n",
    "y_pred_forest = forest.predict(w)\n",
    "\n",
    "end_forest = time.time()\n",
    "forest_time = (end_forest-start_forest)/60\n",
    "forest_time"
   ]
  },
  {
   "cell_type": "code",
   "execution_count": 78,
   "metadata": {},
   "outputs": [
    {
     "data": {
      "text/plain": [
       "0.98857142857142855"
      ]
     },
     "execution_count": 78,
     "metadata": {},
     "output_type": "execute_result"
    }
   ],
   "source": [
    "forest.score(z,y_train)           ## Training Accuracy for Random Forest Classifier"
   ]
  },
  {
   "cell_type": "code",
   "execution_count": 81,
   "metadata": {},
   "outputs": [
    {
     "data": {
      "text/plain": [
       "70.101666666666659"
      ]
     },
     "execution_count": 81,
     "metadata": {},
     "output_type": "execute_result"
    }
   ],
   "source": [
    "forest_accuracy = forest.score(w, y_test)*100           ## Testing Accuracy for Random Forest Classifier\n",
    "forest_accuracy "
   ]
  },
  {
   "cell_type": "markdown",
   "metadata": {},
   "source": [
    "### Using Naive Bayesian Classifier:  <font color=blue>   |||Bonus|||\n",
    "Naive Bayes classifier assumes that the presence of a particular feature in a class is unrelated to the presence of any other feature. It calculates probability either to be in class 0 or class 4 based on the Bayesian rule.\n",
    "Since in our case features descibe about the descrete frequency counts of each word I am using Multinomial Naive Bayes model here for the tweet classification."
   ]
  },
  {
   "cell_type": "code",
   "execution_count": 82,
   "metadata": {
    "collapsed": true
   },
   "outputs": [],
   "source": [
    "from sklearn.naive_bayes import MultinomialNB\n",
    "nb_classifier = MultinomialNB()"
   ]
  },
  {
   "cell_type": "code",
   "execution_count": 83,
   "metadata": {},
   "outputs": [
    {
     "data": {
      "text/plain": [
       "0.0013352473576863607"
      ]
     },
     "execution_count": 83,
     "metadata": {},
     "output_type": "execute_result"
    }
   ],
   "source": [
    "start_NB = time.time()\n",
    "\n",
    "nb_classifier.fit(z, y_train.values.ravel())\n",
    "nb_classifier.score(z,y_train.values.ravel())\n",
    "nb_classifier_pred = nb_classifier.predict(w)\n",
    "\n",
    "end_NB =time.time()\n",
    "NB_time = (end_NB-start_NB)/60\n",
    "NB_time"
   ]
  },
  {
   "cell_type": "code",
   "execution_count": 84,
   "metadata": {},
   "outputs": [
    {
     "data": {
      "text/plain": [
       "73.409999999999997"
      ]
     },
     "execution_count": 84,
     "metadata": {},
     "output_type": "execute_result"
    }
   ],
   "source": [
    "from sklearn.metrics import accuracy_score \n",
    "NB_accuracy = (accuracy_score(nb_classifier_pred ,y_test))*100\n",
    "NB_accuracy"
   ]
  },
  {
   "cell_type": "markdown",
   "metadata": {},
   "source": [
    "### Comparing the three Classifiers:   <font color=blue>   |||Bonus|||"
   ]
  },
  {
   "cell_type": "code",
   "execution_count": 85,
   "metadata": {},
   "outputs": [
    {
     "data": {
      "text/html": [
       "<div>\n",
       "<style>\n",
       "    .dataframe thead tr:only-child th {\n",
       "        text-align: right;\n",
       "    }\n",
       "\n",
       "    .dataframe thead th {\n",
       "        text-align: left;\n",
       "    }\n",
       "\n",
       "    .dataframe tbody tr th {\n",
       "        vertical-align: top;\n",
       "    }\n",
       "</style>\n",
       "<table border=\"1\" class=\"dataframe\">\n",
       "  <thead>\n",
       "    <tr style=\"text-align: right;\">\n",
       "      <th></th>\n",
       "      <th>Accuracy</th>\n",
       "      <th>Classifier</th>\n",
       "      <th>Run_time</th>\n",
       "    </tr>\n",
       "  </thead>\n",
       "  <tbody>\n",
       "    <tr>\n",
       "      <th>0</th>\n",
       "      <td>73.880000</td>\n",
       "      <td>Logistic Regeression</td>\n",
       "      <td>0.092826</td>\n",
       "    </tr>\n",
       "    <tr>\n",
       "      <th>1</th>\n",
       "      <td>70.101667</td>\n",
       "      <td>Random Forest</td>\n",
       "      <td>16.077640</td>\n",
       "    </tr>\n",
       "    <tr>\n",
       "      <th>2</th>\n",
       "      <td>73.410000</td>\n",
       "      <td>Naive Bayesian</td>\n",
       "      <td>0.001335</td>\n",
       "    </tr>\n",
       "  </tbody>\n",
       "</table>\n",
       "</div>"
      ],
      "text/plain": [
       "    Accuracy            Classifier   Run_time\n",
       "0  73.880000  Logistic Regeression   0.092826\n",
       "1  70.101667         Random Forest  16.077640\n",
       "2  73.410000        Naive Bayesian   0.001335"
      ]
     },
     "execution_count": 85,
     "metadata": {},
     "output_type": "execute_result"
    }
   ],
   "source": [
    "classifiers = { }\n",
    "classifiers['Classifier'] = ['Logistic Regeression', 'Random Forest', 'Naive Bayesian']\n",
    "classifiers['Run_time'] = [logreg_time, forest_time,NB_time]\n",
    "classifiers['Accuracy'] = [logreg_accuracy, forest_accuracy, NB_accuracy]\n",
    "classifiers = pd.DataFrame(classifiers)\n",
    "classifiers"
   ]
  },
  {
   "cell_type": "code",
   "execution_count": 86,
   "metadata": {},
   "outputs": [
    {
     "data": {
      "image/png": "[encoded data removed]",
      "text/plain": [
       "<matplotlib.figure.Figure at 0x1a303b1f438>"
      ]
     },
     "metadata": {},
     "output_type": "display_data"
    }
   ],
   "source": [
    "sns.barplot(y =\"Accuracy\", x=\"Classifier\", data=classifiers); plt.show();"
   ]
  },
  {
   "cell_type": "markdown",
   "metadata": {},
   "source": [
    "Above data clearly shows that for our dataset Accuracy obtained is almost same in all the three classification Models with Logistic_Regression slightly on the higher side. Although, if we compare Runtime executions for these classifiers they significantly vary. Naive Bayesian is faster among all these and Random Forest model training is taking maximum time of 14.9 mins. Rest two models are trained in seconds."
   ]
  },
  {
   "cell_type": "markdown",
   "metadata": {},
   "source": [
    "## 5. Discussion:"
   ]
  },
  {
   "cell_type": "code",
   "execution_count": 87,
   "metadata": {},
   "outputs": [
    {
     "data": {
      "text/html": [
       "<div>\n",
       "<style>\n",
       "    .dataframe thead tr:only-child th {\n",
       "        text-align: right;\n",
       "    }\n",
       "\n",
       "    .dataframe thead th {\n",
       "        text-align: left;\n",
       "    }\n",
       "\n",
       "    .dataframe tbody tr th {\n",
       "        vertical-align: top;\n",
       "    }\n",
       "</style>\n",
       "<table border=\"1\" class=\"dataframe\">\n",
       "  <thead>\n",
       "    <tr style=\"text-align: right;\">\n",
       "      <th></th>\n",
       "      <th>tweets</th>\n",
       "      <th>liberal</th>\n",
       "      <th>conservative</th>\n",
       "      <th>new_democratic</th>\n",
       "      <th>bloc</th>\n",
       "      <th>green</th>\n",
       "      <th>max_value</th>\n",
       "      <th>party</th>\n",
       "      <th>class</th>\n",
       "    </tr>\n",
       "  </thead>\n",
       "  <tbody>\n",
       "    <tr>\n",
       "      <th>0</th>\n",
       "      <td>living dream cameraman camera cameraception ca...</td>\n",
       "      <td>0</td>\n",
       "      <td>0</td>\n",
       "      <td>2</td>\n",
       "      <td>0</td>\n",
       "      <td>0</td>\n",
       "      <td>2</td>\n",
       "      <td>ndp</td>\n",
       "      <td>0</td>\n",
       "    </tr>\n",
       "    <tr>\n",
       "      <th>1</th>\n",
       "      <td>justin trudeaus reasons thanksgiving todays mo...</td>\n",
       "      <td>2</td>\n",
       "      <td>0</td>\n",
       "      <td>0</td>\n",
       "      <td>0</td>\n",
       "      <td>0</td>\n",
       "      <td>2</td>\n",
       "      <td>lpc</td>\n",
       "      <td>4</td>\n",
       "    </tr>\n",
       "    <tr>\n",
       "      <th>4</th>\n",
       "      <td>mulcair suggests ’ bad blood trudeau ready4cha...</td>\n",
       "      <td>1</td>\n",
       "      <td>0</td>\n",
       "      <td>2</td>\n",
       "      <td>0</td>\n",
       "      <td>0</td>\n",
       "      <td>2</td>\n",
       "      <td>ndp</td>\n",
       "      <td>0</td>\n",
       "    </tr>\n",
       "    <tr>\n",
       "      <th>6</th>\n",
       "      <td>harper 8m help countries wing govts elected cd...</td>\n",
       "      <td>0</td>\n",
       "      <td>1</td>\n",
       "      <td>0</td>\n",
       "      <td>0</td>\n",
       "      <td>0</td>\n",
       "      <td>1</td>\n",
       "      <td>cpc</td>\n",
       "      <td>4</td>\n",
       "    </tr>\n",
       "    <tr>\n",
       "      <th>7</th>\n",
       "      <td>tommy taylor</td>\n",
       "      <td>0</td>\n",
       "      <td>0</td>\n",
       "      <td>1</td>\n",
       "      <td>0</td>\n",
       "      <td>0</td>\n",
       "      <td>1</td>\n",
       "      <td>ndp</td>\n",
       "      <td>4</td>\n",
       "    </tr>\n",
       "  </tbody>\n",
       "</table>\n",
       "</div>"
      ],
      "text/plain": [
       "                                              tweets  liberal  conservative  \\\n",
       "0  living dream cameraman camera cameraception ca...        0             0   \n",
       "1  justin trudeaus reasons thanksgiving todays mo...        2             0   \n",
       "4  mulcair suggests ’ bad blood trudeau ready4cha...        1             0   \n",
       "6  harper 8m help countries wing govts elected cd...        0             1   \n",
       "7                                       tommy taylor        0             0   \n",
       "\n",
       "   new_democratic  bloc  green  max_value party  class  \n",
       "0               2     0      0          2   ndp      0  \n",
       "1               0     0      0          2   lpc      4  \n",
       "4               2     0      0          2   ndp      0  \n",
       "6               0     0      0          1   cpc      4  \n",
       "7               1     0      0          1   ndp      4  "
      ]
     },
     "execution_count": 87,
     "metadata": {},
     "output_type": "execute_result"
    }
   ],
   "source": [
    "party_data = unclassified.drop(unclassified[unclassified.party =='None'].index)\n",
    "party_data.head()"
   ]
  },
  {
   "cell_type": "markdown",
   "metadata": {},
   "source": [
    "#### Overall Positivity:\n",
    "From the below plot it clearly indicates that there are more number of Positive Tweets in the unclassified data which directly says that in general the overall sentiment towards the 2015 Canadian Election is poitive."
   ]
  },
  {
   "cell_type": "code",
   "execution_count": 88,
   "metadata": {},
   "outputs": [
    {
     "data": {
      "image/png": "[encoded data removed]",
      "text/plain": [
       "<matplotlib.figure.Figure at 0x1a303b884a8>"
      ]
     },
     "metadata": {},
     "output_type": "display_data"
    }
   ],
   "source": [
    "sns.countplot(x=\"class\", hue=\"party\", data = party_data)\n",
    "plt.show()"
   ]
  },
  {
   "cell_type": "markdown",
   "metadata": {
    "collapsed": true
   },
   "source": [
    "If we analyze individual party tweets it shows that there is more percentage of positivity in tweets for Liberal party followed by NDP and then conservatives. An interesting insight that can be identified is that although Conservative party shares around 35% of the total tweets next to Liberal party, Percentage negativity is very high for conservative party when compared to other parties. \n",
    "\n",
    "So purely based on the positivity of the tweets we can say that public are more positive towards the Liberals and NDP and hence they have great chance to win the elections.\n",
    "\n",
    "From exploratory analysis we identified that Liberal is having more buzz among the public considering the tweet percentage. And now by considering the Sentimental Analysis we can say that the liberals are having positive buzz among public with great chance to win the elections and which happened."
   ]
  },
  {
   "cell_type": "code",
   "execution_count": 89,
   "metadata": {},
   "outputs": [
    {
     "data": {
      "image/png": "[encoded data removed]",
      "text/plain": [
       "<matplotlib.figure.Figure at 0x1a303aaa320>"
      ]
     },
     "metadata": {},
     "output_type": "display_data"
    }
   ],
   "source": [
    "sns.factorplot(x=\"party\", hue=\"class\",data=party_data, kind=\"count\",size=4, aspect=2)\n",
    "plt.show()"
   ]
  },
  {
   "cell_type": "markdown",
   "metadata": {
    "collapsed": true
   },
   "source": [
    "Above graph shows the public positivity and negativity for each party based on sentimental analysis performed on the sample twitter data collected before 2015 Canadian elections. One more interesting insight is that the percentage share of tweets each party got in this sample clearly reflects the final voting percentage.\n",
    "\n",
    "Final Voting Data:  https://en.wikipedia.org/wiki/Results_of_the_Canadian_federal_election,_2015    "
   ]
  },
  {
   "attachments": {
    "Capture.PNG": {
     "image/png": "[encoded data removed]"
    }
   },
   "cell_type": "markdown",
   "metadata": {},
   "source": [
    "![Capture.PNG](attachment:Capture.PNG)"
   ]
  },
  {
   "cell_type": "code",
   "execution_count": 93,
   "metadata": {},
   "outputs": [
    {
     "data": {
      "image/png": "[encoded data removed]",
      "text/plain": [
       "<matplotlib.figure.Figure at 0x1a303a4e7b8>"
      ]
     },
     "metadata": {},
     "output_type": "display_data"
    }
   ],
   "source": [
    "party_titles = ['Liberal', 'Conservative', 'NDP', 'Bloc', 'Green']\n",
    "y = [len(lpc.index),len(cpc.index),len(ndp.index),len(bloc.index),len(green.index)]\n",
    "piechart = plt.pie(y,  labels = party_titles, autopct = '%1.1f%%', explode = (0, 0, 0, 0.2, 0.5))\n",
    "plt.title('Political Party Tweets Percentage - 2015 Canadian Elections', fontsize = 18, fontweight = 'bold')\n",
    "plt.axis('equal')\n",
    "plt.show()"
   ]
  },
  {
   "cell_type": "markdown",
   "metadata": {},
   "source": [
    "We can say that actual percentage of votes obtained and the buzz in the twitter (Based on percentage of tweets) have a great coincidence showing the imporatnace of social media data like twitter. And hence Analyzing this kind of data can speak about the political party sceneraios in election with good confidence levels."
   ]
  },
  {
   "cell_type": "markdown",
   "metadata": {},
   "source": [
    "                                                ............................"
   ]
  },
  {
   "cell_type": "markdown",
   "metadata": {},
   "source": [
    "           "
   ]
  },
  {
   "cell_type": "markdown",
   "metadata": {},
   "source": [
    " <font color=blue>   |||Bonus Works Done:||| "
   ]
  },
  {
   "cell_type": "markdown",
   "metadata": {},
   "source": [
    "\n",
    "  1. Classification of Tweets using two methods - And finding the better one (With and Without Tokenizing)\n",
    "  2. Exploration of Unclassified tweets by Piechart\n",
    "  3. Model Evaluation:\n",
    "      - Kfold Cross Validation\n",
    "      - Comparing TfidfVectorizer & Count_Vectorizer\n",
    "      - Evaluating Logistic Regression Without Stop Words\n",
    "      - Confusion Matrix Analysis\n",
    "      - ROC Curve for Logistic Regression\n",
    "  4. Using Multiple Classifiers\n",
    "      - Random Forest\n",
    "      - Naive Bayesian\n",
    "      - Comparision of these 3 Classifiers with Accuracy and Execution Times"
   ]
  },
  {
   "cell_type": "markdown",
   "metadata": {},
   "source": [
    "                                                     ................."
   ]
  }
 ],
 "metadata": {
  "kernelspec": {
   "display_name": "Python 3",
   "language": "python",
   "name": "python3"
  },
  "language_info": {
   "codemirror_mode": {
    "name": "ipython",
    "version": 3
   },
   "file_extension": ".py",
   "mimetype": "text/x-python",
   "name": "python",
   "nbconvert_exporter": "python",
   "pygments_lexer": "ipython3",
   "version": "3.6.1"
  }
 },
 "nbformat": 4,
 "nbformat_minor": 2
}
